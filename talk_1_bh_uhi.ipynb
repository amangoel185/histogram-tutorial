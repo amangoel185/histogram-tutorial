{
 "cells": [
  {
   "cell_type": "markdown",
   "id": "027445be-61d3-47b5-b044-00885f4c7dde",
   "metadata": {},
   "source": [
    "# Recent advancements in Histogramming\n",
    "## Henry Schreiner, Aman Geol, and Nino Lau\n"
   ]
  },
  {
   "cell_type": "markdown",
   "id": "4aed12da-2a5b-4199-9fe5-396aa945b40c",
   "metadata": {},
   "source": [
    "Run the code with us through Binder, altering examples and asking \"what if\" questions along the way :)\n",
    "\n",
    "[![Binder](https://mybinder.org/badge_logo.svg)](https://mybinder.org/v2/gh/henryiii/histogram-tutorial/master?filepath=talk_1_bh_uhi.ipynb)"
   ]
  },
  {
   "cell_type": "markdown",
   "id": "9d323477-2331-4592-9918-e57ff5ae8848",
   "metadata": {},
   "source": [
    "# A new era: boost-histogram 1.0!\n",
    "\n",
    "Boost-histogram 1.0 came out with some great features:\n",
    "\n",
    "* Removal of Python 2.7 & 3.5 support\n",
    "    * Fewer lines of code and more features than 0.13!\n",
    "* Fully staticly typed\n",
    "* Easier subclassing\n",
    "\n",
    "Along with many great features available in 0.11-0.13:\n",
    "* Much simpler, Pythonic metadata system\n",
    "* Much better access to accumulator storages\n",
    "* PlottableProtocol support! (see UHI section later)\n",
    "\n",
    "Huge updates to pybind11 & cibuildwheel as part of this work, too!\n",
    "* New CMake and setuptools helpers\n",
    "* 40% faster accumulation with less memory used\n",
    "* Python 3.9 support\n",
    "* And much more!"
   ]
  },
  {
   "cell_type": "markdown",
   "id": "bc3252d5-a7cc-47e5-98fb-d98473ae5f20",
   "metadata": {},
   "source": [
    "# Demo: statically typed histogram"
   ]
  },
  {
   "cell_type": "markdown",
   "id": "d86d5b41-40d9-49ea-bf2e-72b03094d4d3",
   "metadata": {},
   "source": [
    "# UHI: Unified Histotogram Interface\n",
    "\n",
    "A staticly typed protocol for plotting histograms from any source.\n",
    "\n",
    "Also an actual PyPI library, with helper functions, and lots of centralized documentation."
   ]
  },
  {
   "cell_type": "markdown",
   "id": "ae02f7e2-a19c-418d-91d8-d451791b32a9",
   "metadata": {},
   "source": [
    "# Demo: Plotting a boost-histogram with mplhep or histoprint"
   ]
  },
  {
   "cell_type": "code",
   "execution_count": null,
   "id": "5d678fef-7ee2-4b61-84b8-356c9020d5a9",
   "metadata": {},
   "outputs": [],
   "source": []
  }
 ],
 "metadata": {
  "kernelspec": {
   "display_name": "hist",
   "language": "python",
   "name": "hist"
  },
  "language_info": {
   "codemirror_mode": {
    "name": "ipython",
    "version": 3
   },
   "file_extension": ".py",
   "mimetype": "text/x-python",
   "name": "python",
   "nbconvert_exporter": "python",
   "pygments_lexer": "ipython3",
   "version": "3.9.4"
  }
 },
 "nbformat": 4,
 "nbformat_minor": 5
}
