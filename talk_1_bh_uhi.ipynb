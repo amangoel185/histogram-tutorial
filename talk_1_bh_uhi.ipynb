{
 "cells": [
  {
   "cell_type": "markdown",
   "id": "027445be-61d3-47b5-b044-00885f4c7dde",
   "metadata": {},
   "source": [
    "# Recent advancements in Histogramming\n",
    "## Henry Schreiner, Aman Geol, and Nino Lau\n"
   ]
  },
  {
   "cell_type": "markdown",
   "id": "4aed12da-2a5b-4199-9fe5-396aa945b40c",
   "metadata": {},
   "source": [
    "Run the code with us through Binder, altering examples and asking \"what if\" questions along the way :)\n",
    "\n",
    "[![Binder](https://mybinder.org/badge_logo.svg)](https://mybinder.org/v2/gh/henryiii/histogram-tutorial/master?filepath=talk_1_bh_uhi.ipynb)"
   ]
  },
  {
   "cell_type": "markdown",
   "id": "9d323477-2331-4592-9918-e57ff5ae8848",
   "metadata": {},
   "source": [
    "# A new era: boost-histogram 1.0!\n",
    "\n",
    "Boost-histogram 1.0 came out with some great features:\n",
    "\n",
    "* Removal of Python 2.7 & 3.5 support\n",
    "    * Fewer lines of code and more features than 0.13!\n",
    "* Fully staticly typed\n",
    "* Easier subclassing\n",
    "\n",
    "Along with many great features available in 0.11-0.13:\n",
    "* Much simpler, Pythonic metadata system\n",
    "* Much better access to accumulator storages\n",
    "* PlottableProtocol support! (see UHI section later)\n",
    "\n",
    "Huge updates to pybind11 & cibuildwheel as part of this work, too!\n",
    "* New CMake and setuptools helpers\n",
    "* 40% faster accumulation with less memory used\n",
    "* Python 3.9 support\n",
    "* And much more!"
   ]
  },
  {
   "cell_type": "markdown",
   "id": "bc3252d5-a7cc-47e5-98fb-d98473ae5f20",
   "metadata": {},
   "source": [
    "# Demo: statically typed histogram"
   ]
  },
  {
   "cell_type": "markdown",
   "id": "d86d5b41-40d9-49ea-bf2e-72b03094d4d3",
   "metadata": {},
   "source": [
    "# UHI: Unified Histotogram Interface\n",
    "\n",
    "A staticly typed protocol for plotting histograms from any source.\n",
    "\n",
    "Also an actual PyPI library, with helper functions, and lots of centralized documentation."
   ]
  },
  {
   "cell_type": "markdown",
   "id": "ae02f7e2-a19c-418d-91d8-d451791b32a9",
   "metadata": {},
   "source": [
    "# Demo: Plotting a boost-histogram with mplhep or histoprint"
   ]
  },
  {
   "cell_type": "code",
   "execution_count": null,
   "id": "5d678fef-7ee2-4b61-84b8-356c9020d5a9",
   "metadata": {},
   "outputs": [],
   "source": [
    "import boost_histogram as bh\n",
    "import numpy as np\n",
    "import matplotlib.pyplot as plt\n",
    "from PIL import Image"
   ]
  },
  {
   "cell_type": "code",
   "execution_count": null,
   "id": "53f7e2d3-14e4-44b2-84f6-582f2919f0cc",
   "metadata": {},
   "outputs": [],
   "source": [
    "sp = Image.open(\"bh-icon.png\")\n",
    "sp"
   ]
  },
  {
   "cell_type": "code",
   "execution_count": null,
   "id": "f0d75569-e9e9-43cd-8d21-7ce0c20ef0d4",
   "metadata": {},
   "outputs": [],
   "source": [
    "arr = np.asarray(sp)[:, :, 3]"
   ]
  },
  {
   "cell_type": "code",
   "execution_count": null,
   "id": "140f31f7-5a9f-4110-a86b-6beb900fc398",
   "metadata": {},
   "outputs": [],
   "source": [
    "x, y, p = np.random.default_rng().random((3, 200_000))"
   ]
  },
  {
   "cell_type": "code",
   "execution_count": null,
   "id": "a04681a1-913b-4a60-97d2-fd703c039637",
   "metadata": {},
   "outputs": [],
   "source": [
    "bx = (x * 200).astype(np.int32)\n",
    "by = (y * 200).astype(np.int32)"
   ]
  },
  {
   "cell_type": "code",
   "execution_count": null,
   "id": "0e7fcec6-87af-4b7a-866e-bbada005f60e",
   "metadata": {},
   "outputs": [],
   "source": [
    "# Probibility of hit\n",
    "prob = arr[by, bx] / 255\n",
    "\n",
    "# True if hit\n",
    "hits = prob > p"
   ]
  },
  {
   "cell_type": "code",
   "execution_count": null,
   "id": "cc1503f3-97aa-437e-9ac8-dbee027f3cc8",
   "metadata": {},
   "outputs": [],
   "source": [
    "X = x[hits]\n",
    "Y = 1 - (y[hits] / 200 * 200 + (1 / 200))"
   ]
  },
  {
   "cell_type": "code",
   "execution_count": null,
   "id": "0294724c-33d1-42ec-8c55-849a0b2e3ddf",
   "metadata": {},
   "outputs": [],
   "source": [
    "h = bh.Histogram(\n",
    "    bh.axis.Regular(300, 0, 1, metadata=\"x\"), bh.axis.Regular(300, 0, 1, metadata=\"y\")\n",
    ")\n",
    "\n",
    "h.fill(X, Y)"
   ]
  },
  {
   "cell_type": "code",
   "execution_count": null,
   "id": "090c7456-f469-4944-b670-231eba0e1c0c",
   "metadata": {},
   "outputs": [],
   "source": [
    "def plt_h2(h):\n",
    "    x, y = h.axes.edges\n",
    "    plt.pcolormesh(x.T, y.T, h.view().T)\n",
    "    plt.gca().set_aspect(\"equal\", \"box\")\n",
    "    plt.xlabel(h.axes[0].metadata)\n",
    "    plt.ylabel(h.axes[1].metadata)"
   ]
  },
  {
   "cell_type": "code",
   "execution_count": null,
   "id": "462096f8-9bbd-40c5-9818-dcf7f50a7dee",
   "metadata": {},
   "outputs": [],
   "source": [
    "plt_h2(h)"
   ]
  },
  {
   "cell_type": "code",
   "execution_count": null,
   "id": "a825fea5-a1eb-405f-b8f4-42f37bb7dc17",
   "metadata": {},
   "outputs": [],
   "source": [
    "plt_h2(h[:: bh.rebin(6), :: bh.rebin(3)])"
   ]
  },
  {
   "cell_type": "code",
   "execution_count": null,
   "id": "0012c8f2-94c9-4970-8139-31864730e18f",
   "metadata": {},
   "outputs": [],
   "source": [
    "plt_h2(h[bh.loc(0.2):bh.loc(0.68), bh.loc(0.5):bh.loc(0.8)])"
   ]
  },
  {
   "cell_type": "code",
   "execution_count": null,
   "id": "62855b19-46d7-436b-8c96-5f4e9e1d1181",
   "metadata": {},
   "outputs": [],
   "source": [
    "from histoprint import text_hist, print_hist"
   ]
  },
  {
   "cell_type": "code",
   "execution_count": null,
   "id": "bf5ec697-ab91-4366-a28b-a40a4cc5e5d3",
   "metadata": {},
   "outputs": [],
   "source": []
  }
 ],
 "metadata": {
  "kernelspec": {
   "display_name": "hist",
   "language": "python",
   "name": "hist"
  },
  "language_info": {
   "codemirror_mode": {
    "name": "ipython",
    "version": 3
   },
   "file_extension": ".py",
   "mimetype": "text/x-python",
   "name": "python",
   "nbconvert_exporter": "python",
   "pygments_lexer": "ipython3",
   "version": "3.9.4"
  }
 },
 "nbformat": 4,
 "nbformat_minor": 5
}
