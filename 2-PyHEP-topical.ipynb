{
 "cells": [
  {
   "cell_type": "markdown",
   "id": "2227a8fb-9457-461c-a2ee-9ae84a51311c",
   "metadata": {},
   "source": [
    "## uproot-browser"
   ]
  },
  {
   "cell_type": "markdown",
   "id": "0112e8c2-ebb7-4eb2-9cf3-314b21473004",
   "metadata": {},
   "source": [
    "`uproot-browser` is a *rich* and *plotext* based command line library. Its aim is to enable a user to browse and look inside a *ROOT* file, completely via the terminal. It takes its inspiration from the *ROOT object browser*."
   ]
  },
  {
   "cell_type": "code",
   "execution_count": null,
   "id": "fd2f3bb4-7952-41d1-b874-ea8a25285895",
   "metadata": {},
   "outputs": [],
   "source": [
    "import uproot_browser"
   ]
  },
  {
   "cell_type": "markdown",
   "id": "780c2ead-0921-42e2-a283-d1e1f159ac10",
   "metadata": {},
   "source": [
    "The uproot-browser has a command line interface, hence we use `!` in front of the command while running it in a Jupyter notebook.\n",
    "\n",
    "The *help page* can be accessed via `-h`, `--help` or when no argument or command is passed. "
   ]
  },
  {
   "cell_type": "code",
   "execution_count": null,
   "id": "aa5452ed-a298-4ee8-9bd2-e71afcec7e6a",
   "metadata": {},
   "outputs": [],
   "source": [
    "! uproot-browser -h"
   ]
  },
  {
   "cell_type": "markdown",
   "id": "e9b3d06a-5ddb-4fba-a93b-010996d9c142",
   "metadata": {},
   "source": [
    "The two major features that have been implemented till Version 0.2 are:\n",
    "\n",
    "- `plot`\n",
    "- `treee`"
   ]
  },
  {
   "cell_type": "code",
   "execution_count": null,
   "id": "fab3db59-5732-46f4-a0f3-eb123f8cb279",
   "metadata": {},
   "outputs": [],
   "source": [
    "! uproot-browser tree uproot-browser-data/uproot-Event.root"
   ]
  },
  {
   "cell_type": "code",
   "execution_count": null,
   "id": "77b63509-8964-470e-9766-5af77fdaadae",
   "metadata": {},
   "outputs": [],
   "source": [
    "! uproot-browser plot uproot-browser-data/uproot-Event.root:hstat"
   ]
  },
  {
   "cell_type": "code",
   "execution_count": null,
   "id": "009a36f4-5ad7-4d60-beba-4532e4ddc084",
   "metadata": {},
   "outputs": [],
   "source": [
    "! uproot-browser tree uproot-browser-data/uproot-issue213.root"
   ]
  },
  {
   "cell_type": "code",
   "execution_count": null,
   "id": "a66d1146-3c7b-449b-98c1-91f361ed6a66",
   "metadata": {},
   "outputs": [],
   "source": [
    "! uproot-browser plot uproot-browser-data/uproot-issue213.root:gen_hits_z_pos"
   ]
  },
  {
   "cell_type": "markdown",
   "id": "b03577db-a86e-4644-9eb6-db1037251cda",
   "metadata": {},
   "source": [
    "### In the Works"
   ]
  },
  {
   "cell_type": "markdown",
   "id": "71756a9d-b25a-4077-8050-bb8a77f5ec48",
   "metadata": {},
   "source": [
    "- A `textual` based TUI which would help view a plot and a tree side by side!"
   ]
  }
 ],
 "metadata": {
  "kernelspec": {
   "display_name": "Python 3 (ipykernel)",
   "language": "python",
   "name": "python3"
  },
  "language_info": {
   "codemirror_mode": {
    "name": "ipython",
    "version": 3
   },
   "file_extension": ".py",
   "mimetype": "text/x-python",
   "name": "python",
   "nbconvert_exporter": "python",
   "pygments_lexer": "ipython3",
   "version": "3.10.0"
  }
 },
 "nbformat": 4,
 "nbformat_minor": 5
}
