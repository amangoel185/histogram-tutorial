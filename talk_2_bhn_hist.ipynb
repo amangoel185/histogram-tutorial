{
 "cells": [
  {
   "cell_type": "markdown",
   "id": "173c6e36-4d2a-4a60-952c-e2aa72e39bfc",
   "metadata": {},
   "source": [
    "# Part 2: boost-histogram plans and Hist"
   ]
  },
  {
   "cell_type": "markdown",
   "id": "73cc6d52-629c-4149-a420-87a762986db1",
   "metadata": {},
   "source": [
    "## Boost-histogram numbafication plans"
   ]
  },
  {
   "cell_type": "markdown",
   "id": "aa78fad8-6f40-4ef5-b195-1c91c67e177e",
   "metadata": {},
   "source": [
    "## Hist\n",
    "\n",
    "Hist extends boost-histogram with:\n",
    "* Named axes and labels\n",
    "* UHI+: faster, easier to type indexing additions\n",
    "* QuickConstruct: a system to reduce the typing when making histograms\n",
    "* Fancy Jupyter reprs\n",
    "* Other useful shortcuts, like density, pandas support, profiles from existing histograms, and more!"
   ]
  },
  {
   "cell_type": "code",
   "execution_count": null,
   "id": "e77722d5-4775-4186-b96e-76fe22e1d5dd",
   "metadata": {},
   "outputs": [],
   "source": [
    "# TODO: Add features since roughly 2.0.0 beta 1"
   ]
  },
  {
   "cell_type": "code",
   "execution_count": null,
   "id": "125f5e5f-6517-458e-83ff-5476bf623cb9",
   "metadata": {},
   "outputs": [],
   "source": []
  }
 ],
 "metadata": {
  "kernelspec": {
   "display_name": "Python [conda env:histogram-tutorial] *",
   "language": "python",
   "name": "conda-env-histogram-tutorial-py"
  },
  "language_info": {
   "codemirror_mode": {
    "name": "ipython",
    "version": 3
   },
   "file_extension": ".py",
   "mimetype": "text/x-python",
   "name": "python",
   "nbconvert_exporter": "python",
   "pygments_lexer": "ipython3",
   "version": "3.9.5"
  }
 },
 "nbformat": 4,
 "nbformat_minor": 5
}
