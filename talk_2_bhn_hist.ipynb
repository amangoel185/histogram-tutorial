{
 "cells": [
  {
   "cell_type": "markdown",
   "id": "173c6e36-4d2a-4a60-952c-e2aa72e39bfc",
   "metadata": {},
   "source": [
    "# Part 2: boost-histogram plans and Hist"
   ]
  },
  {
   "cell_type": "markdown",
   "id": "73cc6d52-629c-4149-a420-87a762986db1",
   "metadata": {},
   "source": [
    "## Boost-histogram numbafication plans"
   ]
  },
  {
   "cell_type": "code",
   "execution_count": null,
   "id": "6a342831-81ea-4d55-a239-0d761debd698",
   "metadata": {},
   "outputs": [],
   "source": [
    "# todo"
   ]
  },
  {
   "cell_type": "markdown",
   "id": "aa78fad8-6f40-4ef5-b195-1c91c67e177e",
   "metadata": {},
   "source": [
    "## Hist\n",
    "\n",
    "Hist extends boost-histogram with:\n",
    "* Named axes and labels\n",
    "* Fancy Jupyter reprs\n",
    "* UHI+: faster, easier to type indexing additions\n",
    "* QuickConstruct: a system to reduce the typing when making histograms\n",
    "* Other useful shortcuts, like density, pandas support, profiles from existing histograms, and more!"
   ]
  },
  {
   "cell_type": "markdown",
   "id": "d6a84c42-03ca-4fa4-a47c-3a8e31a12488",
   "metadata": {},
   "source": [
    "### Name shortcuts of Hist\n",
    "\n",
    "Hist allows names for Boost-histograms axes, the names are unique identifiers in a histogram which are used to support some useful features such as `.fill()` and `.project()`. Specially, hist designs `NamedHist` to provide name shortcuts for the histograms that contain named axes."
   ]
  },
  {
   "cell_type": "code",
   "execution_count": 1,
   "id": "125f5e5f-6517-458e-83ff-5476bf623cb9",
   "metadata": {},
   "outputs": [],
   "source": [
    "import numpy as np\n",
    "import boost_histogram as bh\n",
    "\n",
    "from hist import axis, Hist, NamedHist\n",
    "\n",
    "# named axes\n",
    "reg_axis = axis.Regular(10, -3, 3, overflow=False, underflow=False, name=\"X\", label=\"x [unit]\")\n",
    "var_axis = axis.Variable(range(-5, 6), name=\"Y\", label=\"y [unit]\")\n",
    "int_axis = axis.Integer(-3, 3, overflow=True, underflow=True, name=\"Z\", label=\"z [units]\")"
   ]
  },
  {
   "cell_type": "code",
   "execution_count": 2,
   "id": "d7dd631d-5c4a-41a6-854f-c4a96cfe450a",
   "metadata": {},
   "outputs": [
    {
     "name": "stdout",
     "output_type": "stream",
     "text": [
      "Name of axis 0: \tX;\n",
      "Label of axis 1: \ty [unit].\n"
     ]
    }
   ],
   "source": [
    "# histograms with named axes\n",
    "unnamed_hist = Hist(reg_axis, var_axis, int_axis)\n",
    "named_hist = NamedHist(reg_axis, var_axis, int_axis)\n",
    "\n",
    "print(\"Name of axis 0: \\t\" + named_hist.axes[0].name + \";\")\n",
    "print(\"Label of axis 1: \\t\" + named_hist.axes[1].label + \".\")"
   ]
  },
  {
   "cell_type": "code",
   "execution_count": 3,
   "id": "a872089f-897d-494c-9fee-b618765bb3e2",
   "metadata": {},
   "outputs": [],
   "source": [
    "# name shortcuts\n",
    "unnamed_hist = unnamed_hist.fill(np.random.randn(100), np.random.randn(100), np.random.randn(100))\n",
    "unnamed_hist_2d = unnamed_hist.project(0, 1)\n",
    "named_hist = named_hist.fill(X=np.random.randn(100), Y=np.random.randn(100), Z=np.random.randn(100))\n",
    "named_hist_2d = named_hist.project(\"X\", \"Y\")"
   ]
  },
  {
   "cell_type": "markdown",
   "id": "705c3a94-d291-4ddd-9877-13ef6f976845",
   "metadata": {},
   "source": [
    "### Repr\n",
    "\n",
    "Hist has custom reprs when displaying in a Jupyter and supports dark mode."
   ]
  },
  {
   "cell_type": "code",
   "execution_count": 4,
   "id": "020d0983-af9b-465e-b685-298444c848ab",
   "metadata": {},
   "outputs": [
    {
     "data": {
      "text/html": [
       "<html>\n",
       "<div style=\"display:flex; align-items:center;\">\n",
       "<div style=\"width:290px;\">\n",
       "<svg xmlns=\"http://www.w3.org/2000/svg\" viewBox=\"-10 -105 270 120\">\n",
       "<line x1=\"-5\" y1=\"0\" x2=\"255\" y2=\"0\" style=\"fill:none;stroke-width:2;stroke:currentColor\"/>\n",
       "<text text-anchor=\"middle\" x=\"0\" y=\"15\" style=\"fill:currentColor;\">\n",
       "-3\n",
       "</text>\n",
       "<text text-anchor=\"middle\" x=\"250\" y=\"15\" style=\"fill:currentColor;\">\n",
       "3\n",
       "</text>\n",
       "<text text-anchor=\"middle\" x=\"125.0\" y=\"15\" style=\"fill:currentColor;\">\n",
       "x [unit]\n",
       "</text>\n",
       "<polyline points=\"  0,0   0,-0  25,-0  25,-16  50,-16  50,-40  75,-40  75,-80 100,-80 100,-92 125,-92 125,-100 150,-100 150,-44 175,-44 175,-12 200,-12 200,-12 225,-12 225,-0 250,-0 250,0\" style=\"fill:none; stroke:currentColor;\"/>\n",
       "</svg>\n",
       "</div>\n",
       "<div style=\"flex=grow:1;\">\n",
       "Regular(10, -3, 3, underflow=False, overflow=False, name='X', label='x [unit]')<br/>\n",
       "<hr style=\"margin-top:.2em; margin-bottom:.2em;\"/>\n",
       "Double() Σ=99.0\n",
       "\n",
       "</div>\n",
       "</div>\n",
       "</html>"
      ],
      "text/plain": [
       "NamedHist(Regular(10, -3, 3, underflow=False, overflow=False, name='X', label='x [unit]'), storage=Double()) # Sum: 99.0"
      ]
     },
     "execution_count": 4,
     "metadata": {},
     "output_type": "execute_result"
    }
   ],
   "source": [
    "named_hist_2d.project(\"X\")"
   ]
  },
  {
   "cell_type": "code",
   "execution_count": 5,
   "id": "224dd75f-7d5d-4157-8a4b-2e519b065969",
   "metadata": {},
   "outputs": [
    {
     "data": {
      "text/html": [
       "<html>\n",
       "<div style=\"display:flex; align-items:center;\">\n",
       "<div style=\"width:290px;\">\n",
       "<svg xmlns=\"http://www.w3.org/2000/svg\" viewBox=\"-20 -270 290 290\">\n",
       "<text text-anchor=\"middle\" x=\"0\" y=\"13\" style=\"fill:currentColor;\">\n",
       "-3\n",
       "</text>\n",
       "<text text-anchor=\"middle\" x=\"250\" y=\"13\" style=\"fill:currentColor;\">\n",
       "3\n",
       "</text>\n",
       "<text text-anchor=\"middle\" x=\"-10\" y=\"0\" style=\"fill:currentColor;\">\n",
       "-5\n",
       "</text>\n",
       "<text text-anchor=\"middle\" x=\"-10\" y=\"-250\" style=\"fill:currentColor;\">\n",
       "5\n",
       "</text>\n",
       "<text text-anchor=\"middle\" x=\"125.0\" y=\"13\" style=\"fill:currentColor;\">\n",
       "x [unit]\n",
       "</text>\n",
       "<text text-anchor=\"middle\" x=\"-10\" y=\"-125.0\" transform=\"rotate(-90,-10,-125.0)\" style=\"fill:currentColor;\">\n",
       "y [unit]\n",
       "</text>\n",
       "<rect x=\"0.0\" y=\"-25.0\" width=\"25.0\" height=\"25.0\" opacity=\"0.0\" fill=\"currentColor\" stroke-width=\"0.1\"/>\n",
       "<rect x=\"24.999999999999986\" y=\"-25.0\" width=\"25.0\" height=\"25.0\" opacity=\"0.0\" fill=\"currentColor\" stroke-width=\"0.1\"/>\n",
       "<rect x=\"49.999999999999986\" y=\"-25.0\" width=\"25.0\" height=\"25.0\" opacity=\"0.0\" fill=\"currentColor\" stroke-width=\"0.1\"/>\n",
       "<rect x=\"75.00000000000001\" y=\"-25.0\" width=\"25.0\" height=\"25.0\" opacity=\"0.0\" fill=\"currentColor\" stroke-width=\"0.1\"/>\n",
       "<rect x=\"100.00000000000001\" y=\"-25.0\" width=\"25.0\" height=\"25.0\" opacity=\"0.0\" fill=\"currentColor\" stroke-width=\"0.1\"/>\n",
       "<rect x=\"125.0\" y=\"-25.0\" width=\"25.0\" height=\"25.0\" opacity=\"0.0\" fill=\"currentColor\" stroke-width=\"0.1\"/>\n",
       "<rect x=\"150.0\" y=\"-25.0\" width=\"25.0\" height=\"25.0\" opacity=\"0.0\" fill=\"currentColor\" stroke-width=\"0.1\"/>\n",
       "<rect x=\"174.99999999999997\" y=\"-25.0\" width=\"25.0\" height=\"25.0\" opacity=\"0.0\" fill=\"currentColor\" stroke-width=\"0.1\"/>\n",
       "<rect x=\"200.00000000000003\" y=\"-25.0\" width=\"25.0\" height=\"25.0\" opacity=\"0.0\" fill=\"currentColor\" stroke-width=\"0.1\"/>\n",
       "<rect x=\"225.0\" y=\"-25.0\" width=\"25.0\" height=\"25.0\" opacity=\"0.0\" fill=\"currentColor\" stroke-width=\"0.1\"/>\n",
       "<rect x=\"0.0\" y=\"-50.0\" width=\"25.0\" height=\"25.0\" opacity=\"0.0\" fill=\"currentColor\" stroke-width=\"0.1\"/>\n",
       "<rect x=\"24.999999999999986\" y=\"-50.0\" width=\"25.0\" height=\"25.0\" opacity=\"0.0\" fill=\"currentColor\" stroke-width=\"0.1\"/>\n",
       "<rect x=\"49.999999999999986\" y=\"-50.0\" width=\"25.0\" height=\"25.0\" opacity=\"0.0\" fill=\"currentColor\" stroke-width=\"0.1\"/>\n",
       "<rect x=\"75.00000000000001\" y=\"-50.0\" width=\"25.0\" height=\"25.0\" opacity=\"0.0\" fill=\"currentColor\" stroke-width=\"0.1\"/>\n",
       "<rect x=\"100.00000000000001\" y=\"-50.0\" width=\"25.0\" height=\"25.0\" opacity=\"0.0\" fill=\"currentColor\" stroke-width=\"0.1\"/>\n",
       "<rect x=\"125.0\" y=\"-50.0\" width=\"25.0\" height=\"25.0\" opacity=\"0.0\" fill=\"currentColor\" stroke-width=\"0.1\"/>\n",
       "<rect x=\"150.0\" y=\"-50.0\" width=\"25.0\" height=\"25.0\" opacity=\"0.0\" fill=\"currentColor\" stroke-width=\"0.1\"/>\n",
       "<rect x=\"174.99999999999997\" y=\"-50.0\" width=\"25.0\" height=\"25.0\" opacity=\"0.0\" fill=\"currentColor\" stroke-width=\"0.1\"/>\n",
       "<rect x=\"200.00000000000003\" y=\"-50.0\" width=\"25.0\" height=\"25.0\" opacity=\"0.0\" fill=\"currentColor\" stroke-width=\"0.1\"/>\n",
       "<rect x=\"225.0\" y=\"-50.0\" width=\"25.0\" height=\"25.0\" opacity=\"0.0\" fill=\"currentColor\" stroke-width=\"0.1\"/>\n",
       "<rect x=\"0.0\" y=\"-75.0\" width=\"25.0\" height=\"25.0\" opacity=\"0.0\" fill=\"currentColor\" stroke-width=\"0.1\"/>\n",
       "<rect x=\"24.999999999999986\" y=\"-75.0\" width=\"25.0\" height=\"25.0\" opacity=\"0.0\" fill=\"currentColor\" stroke-width=\"0.1\"/>\n",
       "<rect x=\"49.999999999999986\" y=\"-75.0\" width=\"25.0\" height=\"25.0\" opacity=\"0.0\" fill=\"currentColor\" stroke-width=\"0.1\"/>\n",
       "<rect x=\"75.00000000000001\" y=\"-75.0\" width=\"25.0\" height=\"25.0\" opacity=\"0.08333333333333334\" fill=\"currentColor\" stroke-width=\"0.1\"/>\n",
       "<rect x=\"100.00000000000001\" y=\"-75.0\" width=\"25.0\" height=\"25.0\" opacity=\"0.0833333333333334\" fill=\"currentColor\" stroke-width=\"0.1\"/>\n",
       "<rect x=\"125.0\" y=\"-75.0\" width=\"25.0\" height=\"25.0\" opacity=\"0.1666666666666668\" fill=\"currentColor\" stroke-width=\"0.1\"/>\n",
       "<rect x=\"150.0\" y=\"-75.0\" width=\"25.0\" height=\"25.0\" opacity=\"0.0\" fill=\"currentColor\" stroke-width=\"0.1\"/>\n",
       "<rect x=\"174.99999999999997\" y=\"-75.0\" width=\"25.0\" height=\"25.0\" opacity=\"0.0\" fill=\"currentColor\" stroke-width=\"0.1\"/>\n",
       "<rect x=\"200.00000000000003\" y=\"-75.0\" width=\"25.0\" height=\"25.0\" opacity=\"0.0\" fill=\"currentColor\" stroke-width=\"0.1\"/>\n",
       "<rect x=\"225.0\" y=\"-75.0\" width=\"25.0\" height=\"25.0\" opacity=\"0.0\" fill=\"currentColor\" stroke-width=\"0.1\"/>\n",
       "<rect x=\"0.0\" y=\"-100.0\" width=\"25.0\" height=\"25.0\" opacity=\"0.0\" fill=\"currentColor\" stroke-width=\"0.1\"/>\n",
       "<rect x=\"24.999999999999986\" y=\"-100.0\" width=\"25.0\" height=\"25.0\" opacity=\"0.08333333333333334\" fill=\"currentColor\" stroke-width=\"0.1\"/>\n",
       "<rect x=\"49.999999999999986\" y=\"-100.0\" width=\"25.0\" height=\"25.0\" opacity=\"0.0\" fill=\"currentColor\" stroke-width=\"0.1\"/>\n",
       "<rect x=\"75.00000000000001\" y=\"-100.0\" width=\"25.0\" height=\"25.0\" opacity=\"0.16666666666666669\" fill=\"currentColor\" stroke-width=\"0.1\"/>\n",
       "<rect x=\"100.00000000000001\" y=\"-100.0\" width=\"25.0\" height=\"25.0\" opacity=\"0.0\" fill=\"currentColor\" stroke-width=\"0.1\"/>\n",
       "<rect x=\"125.0\" y=\"-100.0\" width=\"25.0\" height=\"25.0\" opacity=\"0.3333333333333336\" fill=\"currentColor\" stroke-width=\"0.1\"/>\n",
       "<rect x=\"150.0\" y=\"-100.0\" width=\"25.0\" height=\"25.0\" opacity=\"0.0\" fill=\"currentColor\" stroke-width=\"0.1\"/>\n",
       "<rect x=\"174.99999999999997\" y=\"-100.0\" width=\"25.0\" height=\"25.0\" opacity=\"0.0\" fill=\"currentColor\" stroke-width=\"0.1\"/>\n",
       "<rect x=\"200.00000000000003\" y=\"-100.0\" width=\"25.0\" height=\"25.0\" opacity=\"0.08333333333333336\" fill=\"currentColor\" stroke-width=\"0.1\"/>\n",
       "<rect x=\"225.0\" y=\"-100.0\" width=\"25.0\" height=\"25.0\" opacity=\"0.0\" fill=\"currentColor\" stroke-width=\"0.1\"/>\n",
       "<rect x=\"0.0\" y=\"-125.0\" width=\"25.0\" height=\"25.0\" opacity=\"0.0\" fill=\"currentColor\" stroke-width=\"0.1\"/>\n",
       "<rect x=\"24.999999999999986\" y=\"-125.0\" width=\"25.0\" height=\"25.0\" opacity=\"0.0\" fill=\"currentColor\" stroke-width=\"0.1\"/>\n",
       "<rect x=\"49.999999999999986\" y=\"-125.0\" width=\"25.0\" height=\"25.0\" opacity=\"0.2499999999999998\" fill=\"currentColor\" stroke-width=\"0.1\"/>\n",
       "<rect x=\"75.00000000000001\" y=\"-125.0\" width=\"25.0\" height=\"25.0\" opacity=\"0.25\" fill=\"currentColor\" stroke-width=\"0.1\"/>\n",
       "<rect x=\"100.00000000000001\" y=\"-125.0\" width=\"25.0\" height=\"25.0\" opacity=\"0.6666666666666672\" fill=\"currentColor\" stroke-width=\"0.1\"/>\n",
       "<rect x=\"125.0\" y=\"-125.0\" width=\"25.0\" height=\"25.0\" opacity=\"0.5833333333333338\" fill=\"currentColor\" stroke-width=\"0.1\"/>\n",
       "<rect x=\"150.0\" y=\"-125.0\" width=\"25.0\" height=\"25.0\" opacity=\"0.41666666666666685\" fill=\"currentColor\" stroke-width=\"0.1\"/>\n",
       "<rect x=\"174.99999999999997\" y=\"-125.0\" width=\"25.0\" height=\"25.0\" opacity=\"0.0833333333333332\" fill=\"currentColor\" stroke-width=\"0.1\"/>\n",
       "<rect x=\"200.00000000000003\" y=\"-125.0\" width=\"25.0\" height=\"25.0\" opacity=\"0.08333333333333336\" fill=\"currentColor\" stroke-width=\"0.1\"/>\n",
       "<rect x=\"225.0\" y=\"-125.0\" width=\"25.0\" height=\"25.0\" opacity=\"0.0\" fill=\"currentColor\" stroke-width=\"0.1\"/>\n",
       "<rect x=\"0.0\" y=\"-150.0\" width=\"25.0\" height=\"25.0\" opacity=\"0.0\" fill=\"currentColor\" stroke-width=\"0.1\"/>\n",
       "<rect x=\"24.999999999999986\" y=\"-150.0\" width=\"25.0\" height=\"25.0\" opacity=\"0.08333333333333334\" fill=\"currentColor\" stroke-width=\"0.1\"/>\n",
       "<rect x=\"49.999999999999986\" y=\"-150.0\" width=\"25.0\" height=\"25.0\" opacity=\"0.2499999999999998\" fill=\"currentColor\" stroke-width=\"0.1\"/>\n",
       "<rect x=\"75.00000000000001\" y=\"-150.0\" width=\"25.0\" height=\"25.0\" opacity=\"1.0\" fill=\"currentColor\" stroke-width=\"0.1\"/>\n",
       "<rect x=\"100.00000000000001\" y=\"-150.0\" width=\"25.0\" height=\"25.0\" opacity=\"0.7500000000000006\" fill=\"currentColor\" stroke-width=\"0.1\"/>\n",
       "<rect x=\"125.0\" y=\"-150.0\" width=\"25.0\" height=\"25.0\" opacity=\"0.7500000000000006\" fill=\"currentColor\" stroke-width=\"0.1\"/>\n",
       "<rect x=\"150.0\" y=\"-150.0\" width=\"25.0\" height=\"25.0\" opacity=\"0.1666666666666667\" fill=\"currentColor\" stroke-width=\"0.1\"/>\n",
       "<rect x=\"174.99999999999997\" y=\"-150.0\" width=\"25.0\" height=\"25.0\" opacity=\"0.0833333333333332\" fill=\"currentColor\" stroke-width=\"0.1\"/>\n",
       "<rect x=\"200.00000000000003\" y=\"-150.0\" width=\"25.0\" height=\"25.0\" opacity=\"0.08333333333333336\" fill=\"currentColor\" stroke-width=\"0.1\"/>\n",
       "<rect x=\"225.0\" y=\"-150.0\" width=\"25.0\" height=\"25.0\" opacity=\"0.0\" fill=\"currentColor\" stroke-width=\"0.1\"/>\n",
       "<rect x=\"0.0\" y=\"-175.0\" width=\"25.0\" height=\"25.0\" opacity=\"0.0\" fill=\"currentColor\" stroke-width=\"0.1\"/>\n",
       "<rect x=\"24.999999999999986\" y=\"-175.0\" width=\"25.0\" height=\"25.0\" opacity=\"0.16666666666666669\" fill=\"currentColor\" stroke-width=\"0.1\"/>\n",
       "<rect x=\"49.999999999999986\" y=\"-175.0\" width=\"25.0\" height=\"25.0\" opacity=\"0.2499999999999998\" fill=\"currentColor\" stroke-width=\"0.1\"/>\n",
       "<rect x=\"75.00000000000001\" y=\"-175.0\" width=\"25.0\" height=\"25.0\" opacity=\"0.16666666666666669\" fill=\"currentColor\" stroke-width=\"0.1\"/>\n",
       "<rect x=\"100.00000000000001\" y=\"-175.0\" width=\"25.0\" height=\"25.0\" opacity=\"0.2500000000000002\" fill=\"currentColor\" stroke-width=\"0.1\"/>\n",
       "<rect x=\"125.0\" y=\"-175.0\" width=\"25.0\" height=\"25.0\" opacity=\"0.2500000000000002\" fill=\"currentColor\" stroke-width=\"0.1\"/>\n",
       "<rect x=\"150.0\" y=\"-175.0\" width=\"25.0\" height=\"25.0\" opacity=\"0.3333333333333334\" fill=\"currentColor\" stroke-width=\"0.1\"/>\n",
       "<rect x=\"174.99999999999997\" y=\"-175.0\" width=\"25.0\" height=\"25.0\" opacity=\"0.0833333333333332\" fill=\"currentColor\" stroke-width=\"0.1\"/>\n",
       "<rect x=\"200.00000000000003\" y=\"-175.0\" width=\"25.0\" height=\"25.0\" opacity=\"0.0\" fill=\"currentColor\" stroke-width=\"0.1\"/>\n",
       "<rect x=\"225.0\" y=\"-175.0\" width=\"25.0\" height=\"25.0\" opacity=\"0.0\" fill=\"currentColor\" stroke-width=\"0.1\"/>\n",
       "<rect x=\"0.0\" y=\"-200.0\" width=\"25.0\" height=\"25.0\" opacity=\"0.0\" fill=\"currentColor\" stroke-width=\"0.1\"/>\n",
       "<rect x=\"24.999999999999986\" y=\"-200.0\" width=\"25.0\" height=\"25.0\" opacity=\"0.0\" fill=\"currentColor\" stroke-width=\"0.1\"/>\n",
       "<rect x=\"49.999999999999986\" y=\"-200.0\" width=\"25.0\" height=\"25.0\" opacity=\"0.08333333333333327\" fill=\"currentColor\" stroke-width=\"0.1\"/>\n",
       "<rect x=\"75.00000000000001\" y=\"-200.0\" width=\"25.0\" height=\"25.0\" opacity=\"0.0\" fill=\"currentColor\" stroke-width=\"0.1\"/>\n",
       "<rect x=\"100.00000000000001\" y=\"-200.0\" width=\"25.0\" height=\"25.0\" opacity=\"0.1666666666666668\" fill=\"currentColor\" stroke-width=\"0.1\"/>\n",
       "<rect x=\"125.0\" y=\"-200.0\" width=\"25.0\" height=\"25.0\" opacity=\"0.0\" fill=\"currentColor\" stroke-width=\"0.1\"/>\n",
       "<rect x=\"150.0\" y=\"-200.0\" width=\"25.0\" height=\"25.0\" opacity=\"0.0\" fill=\"currentColor\" stroke-width=\"0.1\"/>\n",
       "<rect x=\"174.99999999999997\" y=\"-200.0\" width=\"25.0\" height=\"25.0\" opacity=\"0.0\" fill=\"currentColor\" stroke-width=\"0.1\"/>\n",
       "<rect x=\"200.00000000000003\" y=\"-200.0\" width=\"25.0\" height=\"25.0\" opacity=\"0.0\" fill=\"currentColor\" stroke-width=\"0.1\"/>\n",
       "<rect x=\"225.0\" y=\"-200.0\" width=\"25.0\" height=\"25.0\" opacity=\"0.0\" fill=\"currentColor\" stroke-width=\"0.1\"/>\n",
       "<rect x=\"0.0\" y=\"-225.0\" width=\"25.0\" height=\"25.0\" opacity=\"0.0\" fill=\"currentColor\" stroke-width=\"0.1\"/>\n",
       "<rect x=\"24.999999999999986\" y=\"-225.0\" width=\"25.0\" height=\"25.0\" opacity=\"0.0\" fill=\"currentColor\" stroke-width=\"0.1\"/>\n",
       "<rect x=\"49.999999999999986\" y=\"-225.0\" width=\"25.0\" height=\"25.0\" opacity=\"0.0\" fill=\"currentColor\" stroke-width=\"0.1\"/>\n",
       "<rect x=\"75.00000000000001\" y=\"-225.0\" width=\"25.0\" height=\"25.0\" opacity=\"0.0\" fill=\"currentColor\" stroke-width=\"0.1\"/>\n",
       "<rect x=\"100.00000000000001\" y=\"-225.0\" width=\"25.0\" height=\"25.0\" opacity=\"0.0\" fill=\"currentColor\" stroke-width=\"0.1\"/>\n",
       "<rect x=\"125.0\" y=\"-225.0\" width=\"25.0\" height=\"25.0\" opacity=\"0.0\" fill=\"currentColor\" stroke-width=\"0.1\"/>\n",
       "<rect x=\"150.0\" y=\"-225.0\" width=\"25.0\" height=\"25.0\" opacity=\"0.0\" fill=\"currentColor\" stroke-width=\"0.1\"/>\n",
       "<rect x=\"174.99999999999997\" y=\"-225.0\" width=\"25.0\" height=\"25.0\" opacity=\"0.0\" fill=\"currentColor\" stroke-width=\"0.1\"/>\n",
       "<rect x=\"200.00000000000003\" y=\"-225.0\" width=\"25.0\" height=\"25.0\" opacity=\"0.0\" fill=\"currentColor\" stroke-width=\"0.1\"/>\n",
       "<rect x=\"225.0\" y=\"-225.0\" width=\"25.0\" height=\"25.0\" opacity=\"0.0\" fill=\"currentColor\" stroke-width=\"0.1\"/>\n",
       "<rect x=\"0.0\" y=\"-250.0\" width=\"25.0\" height=\"25.0\" opacity=\"0.0\" fill=\"currentColor\" stroke-width=\"0.1\"/>\n",
       "<rect x=\"24.999999999999986\" y=\"-250.0\" width=\"25.0\" height=\"25.0\" opacity=\"0.0\" fill=\"currentColor\" stroke-width=\"0.1\"/>\n",
       "<rect x=\"49.999999999999986\" y=\"-250.0\" width=\"25.0\" height=\"25.0\" opacity=\"0.0\" fill=\"currentColor\" stroke-width=\"0.1\"/>\n",
       "<rect x=\"75.00000000000001\" y=\"-250.0\" width=\"25.0\" height=\"25.0\" opacity=\"0.0\" fill=\"currentColor\" stroke-width=\"0.1\"/>\n",
       "<rect x=\"100.00000000000001\" y=\"-250.0\" width=\"25.0\" height=\"25.0\" opacity=\"0.0\" fill=\"currentColor\" stroke-width=\"0.1\"/>\n",
       "<rect x=\"125.0\" y=\"-250.0\" width=\"25.0\" height=\"25.0\" opacity=\"0.0\" fill=\"currentColor\" stroke-width=\"0.1\"/>\n",
       "<rect x=\"150.0\" y=\"-250.0\" width=\"25.0\" height=\"25.0\" opacity=\"0.0\" fill=\"currentColor\" stroke-width=\"0.1\"/>\n",
       "<rect x=\"174.99999999999997\" y=\"-250.0\" width=\"25.0\" height=\"25.0\" opacity=\"0.0\" fill=\"currentColor\" stroke-width=\"0.1\"/>\n",
       "<rect x=\"200.00000000000003\" y=\"-250.0\" width=\"25.0\" height=\"25.0\" opacity=\"0.0\" fill=\"currentColor\" stroke-width=\"0.1\"/>\n",
       "<rect x=\"225.0\" y=\"-250.0\" width=\"25.0\" height=\"25.0\" opacity=\"0.0\" fill=\"currentColor\" stroke-width=\"0.1\"/>\n",
       "</svg>\n",
       "</div>\n",
       "<div style=\"flex=grow:1;\">\n",
       "Regular(10, -3, 3, underflow=False, overflow=False, name='X', label='x [unit]')<br/>\n",
       "Variable([-5, -4, -3, -2, -1, 0, 1, 2, 3, 4, 5], name='Y', label='y [unit]')<br/>\n",
       "<hr style=\"margin-top:.2em; margin-bottom:.2em;\"/>\n",
       "Double() Σ=99.0\n",
       "\n",
       "</div>\n",
       "</div>\n",
       "</html>"
      ],
      "text/plain": [
       "NamedHist(\n",
       "  Regular(10, -3, 3, underflow=False, overflow=False, name='X', label='x [unit]'),\n",
       "  Variable([-5, -4, -3, -2, -1, 0, 1, 2, 3, 4, 5], name='Y', label='y [unit]'),\n",
       "  storage=Double()) # Sum: 99.0"
      ]
     },
     "execution_count": 5,
     "metadata": {},
     "output_type": "execute_result"
    }
   ],
   "source": [
    "named_hist_2d"
   ]
  },
  {
   "cell_type": "code",
   "execution_count": 6,
   "id": "31945286-189b-41df-a3cd-09c87fc4f79f",
   "metadata": {},
   "outputs": [
    {
     "data": {
      "text/html": [
       "<html>\n",
       "<div style=\"display:flex; align-items:center;\">\n",
       "<div style=\"width:290px;\">\n",
       "<svg xmlns=\"http://www.w3.org/2000/svg\" viewBox=\"-10 -10 220 220\">\n",
       "<rect x=\"0\" y=\"0\" width=\"160\" height=\"160\" style=\"fill:white;opacity:.5;stroke-width:2;stroke:currentColor;\"/>\n",
       "<rect x=\"20\" y=\"20\" width=\"160\" height=\"160\" style=\"fill:white;opacity:.5;stroke-width:2;stroke:currentColor;\"/>\n",
       "<rect x=\"40\" y=\"40\" width=\"160\" height=\"160\" style=\"fill:white;opacity:.5;stroke-width:2;stroke:currentColor;\"/>\n",
       "<text x=\"120.0\" y=\"120.0\" style=\"font-size: 26pt; font-family: verdana; font-style: bold; fill: black;\" text-anchor=\"middle\" alignment-baseline=\"middle\">\n",
       "3D\n",
       "</text>\n",
       "</svg>\n",
       "</div>\n",
       "<div style=\"flex=grow:1;\">\n",
       "Regular(10, -3, 3, underflow=False, overflow=False, name='X', label='x [unit]')<br/>\n",
       "Variable([-5, -4, -3, -2, -1, 0, 1, 2, 3, 4, 5], name='Y', label='y [unit]')<br/>\n",
       "Integer(-3, 3, name='Z', label='z [units]')<br/>\n",
       "<hr style=\"margin-top:.2em; margin-bottom:.2em;\"/>\n",
       "Double() Σ=99.0\n",
       "\n",
       "</div>\n",
       "</div>\n",
       "</html>"
      ],
      "text/plain": [
       "NamedHist(\n",
       "  Regular(10, -3, 3, underflow=False, overflow=False, name='X', label='x [unit]'),\n",
       "  Variable([-5, -4, -3, -2, -1, 0, 1, 2, 3, 4, 5], name='Y', label='y [unit]'),\n",
       "  Integer(-3, 3, name='Z', label='z [units]'),\n",
       "  storage=Double()) # Sum: 99.0"
      ]
     },
     "execution_count": 6,
     "metadata": {},
     "output_type": "execute_result"
    }
   ],
   "source": [
    "named_hist"
   ]
  },
  {
   "cell_type": "markdown",
   "id": "f5809b61-0b65-4001-a4f3-a29ac236a818",
   "metadata": {},
   "source": [
    "Besides the fancy repr, the users can explictly see the data by `.plot()` (using mplhep in the backend) and `.show()` (using histoprint)."
   ]
  },
  {
   "cell_type": "markdown",
   "id": "1f7b5cf8-cf13-45f8-b04d-3465d656c259",
   "metadata": {},
   "source": [
    "### UHI\n",
    "\n",
    "Uniform Histogram Indexing (UHI) is one of the most important features of hist, which provides HEP users with handy accessing shortcuts. For example, to access the centroid element of a 2d-histogram, we can:"
   ]
  },
  {
   "cell_type": "code",
   "execution_count": 7,
   "id": "34d8e03f-36d6-4b20-b030-5f6a13add97d",
   "metadata": {},
   "outputs": [
    {
     "name": "stdout",
     "output_type": "stream",
     "text": [
      "11.0\n",
      "11.0\n",
      "11.0\n",
      "11.0\n",
      "11.0\n"
     ]
    }
   ],
   "source": [
    "print(unnamed_hist_2d[5, 5])\n",
    "print(unnamed_hist_2d[{0: 5, 1: 5}])\n",
    "print(unnamed_hist_2d[{\"X\": 5, \"Y\": 5}])\n",
    "print(unnamed_hist_2d[{\"X\": bh.loc(0), \"Y\": bh.loc(0)}])\n",
    "print(unnamed_hist_2d[-1+.8j, 1-.5j])"
   ]
  },
  {
   "cell_type": "markdown",
   "id": "dbb320b7-3865-44f1-a93f-39e1c89a9305",
   "metadata": {},
   "source": [
    "UHI also supports rebin for histograms."
   ]
  },
  {
   "cell_type": "code",
   "execution_count": 8,
   "id": "6d5fe552-1ca5-4bd4-b394-ba74192750d5",
   "metadata": {},
   "outputs": [
    {
     "data": {
      "text/html": [
       "<html>\n",
       "<div style=\"display:flex; align-items:center;\">\n",
       "<div style=\"width:290px;\">\n",
       "<svg xmlns=\"http://www.w3.org/2000/svg\" viewBox=\"-10 -105 270 120\">\n",
       "<line x1=\"-5\" y1=\"0\" x2=\"255\" y2=\"0\" style=\"fill:none;stroke-width:2;stroke:currentColor\"/>\n",
       "<text text-anchor=\"middle\" x=\"0\" y=\"15\" style=\"fill:currentColor;\">\n",
       "-3\n",
       "</text>\n",
       "<text text-anchor=\"middle\" x=\"250\" y=\"15\" style=\"fill:currentColor;\">\n",
       "3\n",
       "</text>\n",
       "<text text-anchor=\"middle\" x=\"125.0\" y=\"15\" style=\"fill:currentColor;\">\n",
       "x [unit]\n",
       "</text>\n",
       "<polyline points=\"  0,0   0,-0  25,-0  25,-8.33  50,-8.33  50,-25  75,-25  75,-100 100,-100 100,-75 125,-75 125,-75 150,-75 150,-16.7 175,-16.7 175,-8.33 200,-8.33 200,-8.33 225,-8.33 225,-0 250,-0 250,0\" style=\"fill:none; stroke:currentColor;\"/>\n",
       "</svg>\n",
       "</div>\n",
       "<div style=\"flex=grow:1;\">\n",
       "Regular(10, -3, 3, underflow=False, overflow=False, name='X', label='x [unit]')<br/>\n",
       "<hr style=\"margin-top:.2em; margin-bottom:.2em;\"/>\n",
       "Double() Σ=38.0\n",
       "\n",
       "</div>\n",
       "</div>\n",
       "</html>"
      ],
      "text/plain": [
       "NamedHist(Regular(10, -3, 3, underflow=False, overflow=False, name='X', label='x [unit]'), storage=Double()) # Sum: 38.0"
      ]
     },
     "execution_count": 8,
     "metadata": {},
     "output_type": "execute_result"
    }
   ],
   "source": [
    "named_hist_2d[:, 1-.5j]"
   ]
  },
  {
   "cell_type": "code",
   "execution_count": 9,
   "id": "10f20344-6e0d-4386-a534-d8515b86f3cc",
   "metadata": {},
   "outputs": [
    {
     "data": {
      "text/html": [
       "<html>\n",
       "<div style=\"display:flex; align-items:center;\">\n",
       "<div style=\"width:290px;\">\n",
       "<svg xmlns=\"http://www.w3.org/2000/svg\" viewBox=\"-10 -105 270 120\">\n",
       "<line x1=\"-5\" y1=\"0\" x2=\"255\" y2=\"0\" style=\"fill:none;stroke-width:2;stroke:currentColor\"/>\n",
       "<text text-anchor=\"middle\" x=\"0\" y=\"15\" style=\"fill:currentColor;\">\n",
       "-3\n",
       "</text>\n",
       "<text text-anchor=\"middle\" x=\"250\" y=\"15\" style=\"fill:currentColor;\">\n",
       "3\n",
       "</text>\n",
       "<text text-anchor=\"middle\" x=\"125.0\" y=\"15\" style=\"fill:currentColor;\">\n",
       "x [unit]\n",
       "</text>\n",
       "<polyline points=\"  0,0   0,-5.56  50,-5.56  50,-83.3 100,-83.3 100,-100 150,-100 150,-16.7 200,-16.7 200,-5.56 250,-5.56 250,0\" style=\"fill:none; stroke:currentColor;\"/>\n",
       "</svg>\n",
       "</div>\n",
       "<div style=\"flex=grow:1;\">\n",
       "Regular(5, -3, 3, underflow=False, overflow=False, name='X', label='x [unit]')<br/>\n",
       "<hr style=\"margin-top:.2em; margin-bottom:.2em;\"/>\n",
       "Double() Σ=38.0\n",
       "\n",
       "</div>\n",
       "</div>\n",
       "</html>"
      ],
      "text/plain": [
       "NamedHist(Regular(5, -3, 3, underflow=False, overflow=False, name='X', label='x [unit]'), storage=Double()) # Sum: 38.0"
      ]
     },
     "execution_count": 9,
     "metadata": {},
     "output_type": "execute_result"
    }
   ],
   "source": [
    "named_hist_2d[0:10:2j, 1-.5j]"
   ]
  },
  {
   "cell_type": "markdown",
   "id": "681964f1-f9bf-47e2-a5a6-da2224ef74bd",
   "metadata": {},
   "source": [
    "### Quick Construct"
   ]
  },
  {
   "cell_type": "markdown",
   "id": "a4dafa31-a515-4781-a261-a0ac75d998ec",
   "metadata": {},
   "source": [
    "Besides the standard construction of boost-histogram, hist provides quick construct for HEP users."
   ]
  },
  {
   "cell_type": "code",
   "execution_count": 10,
   "id": "c1c1116c-b104-42d0-acb0-bd885089fc14",
   "metadata": {},
   "outputs": [],
   "source": [
    "unnamed_hist = (\n",
    "    Hist.new.Reg(10, -3, 3, flow=False)\n",
    "    .Var(range(-5, 6))\n",
    "    .Int(-3, 3, flow=True)\n",
    "    .Double()\n",
    ")\n",
    "\n",
    "named_hist = (\n",
    "    Hist.new.Reg(10, -3, 3, flow=False, name=\"X\", label=\"x [unit]\")\n",
    "    .Var(range(-5, 6), name=\"Y\", label=\"y [unit]\")\n",
    "    .Int(-3, 3, flow=True, name=\"Z\", label=\"z [units]\")\n",
    "    .Double()\n",
    ")"
   ]
  },
  {
   "cell_type": "code",
   "execution_count": 11,
   "id": "e2346484-ad1b-46e3-a836-949fb95b4daf",
   "metadata": {},
   "outputs": [
    {
     "data": {
      "text/html": [
       "<html>\n",
       "<div style=\"display:flex; align-items:center;\">\n",
       "<div style=\"width:290px;\">\n",
       "<svg xmlns=\"http://www.w3.org/2000/svg\" viewBox=\"-20 -270 290 290\">\n",
       "<text text-anchor=\"middle\" x=\"0\" y=\"13\" style=\"fill:currentColor;\">\n",
       "-3\n",
       "</text>\n",
       "<text text-anchor=\"middle\" x=\"250\" y=\"13\" style=\"fill:currentColor;\">\n",
       "3\n",
       "</text>\n",
       "<text text-anchor=\"middle\" x=\"-10\" y=\"0\" style=\"fill:currentColor;\">\n",
       "-5\n",
       "</text>\n",
       "<text text-anchor=\"middle\" x=\"-10\" y=\"-250\" style=\"fill:currentColor;\">\n",
       "5\n",
       "</text>\n",
       "<text text-anchor=\"middle\" x=\"125.0\" y=\"13\" style=\"fill:currentColor;\">\n",
       "Axis 0\n",
       "</text>\n",
       "<text text-anchor=\"middle\" x=\"-10\" y=\"-125.0\" transform=\"rotate(-90,-10,-125.0)\" style=\"fill:currentColor;\">\n",
       "Axis 1\n",
       "</text>\n",
       "<rect x=\"0.0\" y=\"-25.0\" width=\"25.0\" height=\"25.0\" opacity=\"0.0\" fill=\"currentColor\" stroke-width=\"0.1\"/>\n",
       "<rect x=\"24.999999999999986\" y=\"-25.0\" width=\"25.0\" height=\"25.0\" opacity=\"0.0\" fill=\"currentColor\" stroke-width=\"0.1\"/>\n",
       "<rect x=\"49.999999999999986\" y=\"-25.0\" width=\"25.0\" height=\"25.0\" opacity=\"0.0\" fill=\"currentColor\" stroke-width=\"0.1\"/>\n",
       "<rect x=\"75.00000000000001\" y=\"-25.0\" width=\"25.0\" height=\"25.0\" opacity=\"0.0\" fill=\"currentColor\" stroke-width=\"0.1\"/>\n",
       "<rect x=\"100.00000000000001\" y=\"-25.0\" width=\"25.0\" height=\"25.0\" opacity=\"0.0\" fill=\"currentColor\" stroke-width=\"0.1\"/>\n",
       "<rect x=\"125.0\" y=\"-25.0\" width=\"25.0\" height=\"25.0\" opacity=\"0.0\" fill=\"currentColor\" stroke-width=\"0.1\"/>\n",
       "<rect x=\"150.0\" y=\"-25.0\" width=\"25.0\" height=\"25.0\" opacity=\"0.0\" fill=\"currentColor\" stroke-width=\"0.1\"/>\n",
       "<rect x=\"174.99999999999997\" y=\"-25.0\" width=\"25.0\" height=\"25.0\" opacity=\"0.0\" fill=\"currentColor\" stroke-width=\"0.1\"/>\n",
       "<rect x=\"200.00000000000003\" y=\"-25.0\" width=\"25.0\" height=\"25.0\" opacity=\"0.0\" fill=\"currentColor\" stroke-width=\"0.1\"/>\n",
       "<rect x=\"225.0\" y=\"-25.0\" width=\"25.0\" height=\"25.0\" opacity=\"0.0\" fill=\"currentColor\" stroke-width=\"0.1\"/>\n",
       "<rect x=\"0.0\" y=\"-50.0\" width=\"25.0\" height=\"25.0\" opacity=\"0.0\" fill=\"currentColor\" stroke-width=\"0.1\"/>\n",
       "<rect x=\"24.999999999999986\" y=\"-50.0\" width=\"25.0\" height=\"25.0\" opacity=\"0.0\" fill=\"currentColor\" stroke-width=\"0.1\"/>\n",
       "<rect x=\"49.999999999999986\" y=\"-50.0\" width=\"25.0\" height=\"25.0\" opacity=\"0.0\" fill=\"currentColor\" stroke-width=\"0.1\"/>\n",
       "<rect x=\"75.00000000000001\" y=\"-50.0\" width=\"25.0\" height=\"25.0\" opacity=\"0.0\" fill=\"currentColor\" stroke-width=\"0.1\"/>\n",
       "<rect x=\"100.00000000000001\" y=\"-50.0\" width=\"25.0\" height=\"25.0\" opacity=\"0.0\" fill=\"currentColor\" stroke-width=\"0.1\"/>\n",
       "<rect x=\"125.0\" y=\"-50.0\" width=\"25.0\" height=\"25.0\" opacity=\"0.1\" fill=\"currentColor\" stroke-width=\"0.1\"/>\n",
       "<rect x=\"150.0\" y=\"-50.0\" width=\"25.0\" height=\"25.0\" opacity=\"0.0\" fill=\"currentColor\" stroke-width=\"0.1\"/>\n",
       "<rect x=\"174.99999999999997\" y=\"-50.0\" width=\"25.0\" height=\"25.0\" opacity=\"0.0\" fill=\"currentColor\" stroke-width=\"0.1\"/>\n",
       "<rect x=\"200.00000000000003\" y=\"-50.0\" width=\"25.0\" height=\"25.0\" opacity=\"0.0\" fill=\"currentColor\" stroke-width=\"0.1\"/>\n",
       "<rect x=\"225.0\" y=\"-50.0\" width=\"25.0\" height=\"25.0\" opacity=\"0.0\" fill=\"currentColor\" stroke-width=\"0.1\"/>\n",
       "<rect x=\"0.0\" y=\"-75.0\" width=\"25.0\" height=\"25.0\" opacity=\"0.0\" fill=\"currentColor\" stroke-width=\"0.1\"/>\n",
       "<rect x=\"24.999999999999986\" y=\"-75.0\" width=\"25.0\" height=\"25.0\" opacity=\"0.0\" fill=\"currentColor\" stroke-width=\"0.1\"/>\n",
       "<rect x=\"49.999999999999986\" y=\"-75.0\" width=\"25.0\" height=\"25.0\" opacity=\"0.09999999999999985\" fill=\"currentColor\" stroke-width=\"0.1\"/>\n",
       "<rect x=\"75.00000000000001\" y=\"-75.0\" width=\"25.0\" height=\"25.0\" opacity=\"0.0\" fill=\"currentColor\" stroke-width=\"0.1\"/>\n",
       "<rect x=\"100.00000000000001\" y=\"-75.0\" width=\"25.0\" height=\"25.0\" opacity=\"0.0\" fill=\"currentColor\" stroke-width=\"0.1\"/>\n",
       "<rect x=\"125.0\" y=\"-75.0\" width=\"25.0\" height=\"25.0\" opacity=\"0.0\" fill=\"currentColor\" stroke-width=\"0.1\"/>\n",
       "<rect x=\"150.0\" y=\"-75.0\" width=\"25.0\" height=\"25.0\" opacity=\"0.0\" fill=\"currentColor\" stroke-width=\"0.1\"/>\n",
       "<rect x=\"174.99999999999997\" y=\"-75.0\" width=\"25.0\" height=\"25.0\" opacity=\"0.0\" fill=\"currentColor\" stroke-width=\"0.1\"/>\n",
       "<rect x=\"200.00000000000003\" y=\"-75.0\" width=\"25.0\" height=\"25.0\" opacity=\"0.0\" fill=\"currentColor\" stroke-width=\"0.1\"/>\n",
       "<rect x=\"225.0\" y=\"-75.0\" width=\"25.0\" height=\"25.0\" opacity=\"0.0\" fill=\"currentColor\" stroke-width=\"0.1\"/>\n",
       "<rect x=\"0.0\" y=\"-100.0\" width=\"25.0\" height=\"25.0\" opacity=\"0.0\" fill=\"currentColor\" stroke-width=\"0.1\"/>\n",
       "<rect x=\"24.999999999999986\" y=\"-100.0\" width=\"25.0\" height=\"25.0\" opacity=\"0.0\" fill=\"currentColor\" stroke-width=\"0.1\"/>\n",
       "<rect x=\"49.999999999999986\" y=\"-100.0\" width=\"25.0\" height=\"25.0\" opacity=\"0.09999999999999985\" fill=\"currentColor\" stroke-width=\"0.1\"/>\n",
       "<rect x=\"75.00000000000001\" y=\"-100.0\" width=\"25.0\" height=\"25.0\" opacity=\"0.3999999999999997\" fill=\"currentColor\" stroke-width=\"0.1\"/>\n",
       "<rect x=\"100.00000000000001\" y=\"-100.0\" width=\"25.0\" height=\"25.0\" opacity=\"0.0\" fill=\"currentColor\" stroke-width=\"0.1\"/>\n",
       "<rect x=\"125.0\" y=\"-100.0\" width=\"25.0\" height=\"25.0\" opacity=\"0.4\" fill=\"currentColor\" stroke-width=\"0.1\"/>\n",
       "<rect x=\"150.0\" y=\"-100.0\" width=\"25.0\" height=\"25.0\" opacity=\"0.2999999999999999\" fill=\"currentColor\" stroke-width=\"0.1\"/>\n",
       "<rect x=\"174.99999999999997\" y=\"-100.0\" width=\"25.0\" height=\"25.0\" opacity=\"0.3999999999999991\" fill=\"currentColor\" stroke-width=\"0.1\"/>\n",
       "<rect x=\"200.00000000000003\" y=\"-100.0\" width=\"25.0\" height=\"25.0\" opacity=\"0.0\" fill=\"currentColor\" stroke-width=\"0.1\"/>\n",
       "<rect x=\"225.0\" y=\"-100.0\" width=\"25.0\" height=\"25.0\" opacity=\"0.0\" fill=\"currentColor\" stroke-width=\"0.1\"/>\n",
       "<rect x=\"0.0\" y=\"-125.0\" width=\"25.0\" height=\"25.0\" opacity=\"0.0\" fill=\"currentColor\" stroke-width=\"0.1\"/>\n",
       "<rect x=\"24.999999999999986\" y=\"-125.0\" width=\"25.0\" height=\"25.0\" opacity=\"0.0\" fill=\"currentColor\" stroke-width=\"0.1\"/>\n",
       "<rect x=\"49.999999999999986\" y=\"-125.0\" width=\"25.0\" height=\"25.0\" opacity=\"0.1999999999999997\" fill=\"currentColor\" stroke-width=\"0.1\"/>\n",
       "<rect x=\"75.00000000000001\" y=\"-125.0\" width=\"25.0\" height=\"25.0\" opacity=\"0.5999999999999995\" fill=\"currentColor\" stroke-width=\"0.1\"/>\n",
       "<rect x=\"100.00000000000001\" y=\"-125.0\" width=\"25.0\" height=\"25.0\" opacity=\"0.8999999999999999\" fill=\"currentColor\" stroke-width=\"0.1\"/>\n",
       "<rect x=\"125.0\" y=\"-125.0\" width=\"25.0\" height=\"25.0\" opacity=\"1.0\" fill=\"currentColor\" stroke-width=\"0.1\"/>\n",
       "<rect x=\"150.0\" y=\"-125.0\" width=\"25.0\" height=\"25.0\" opacity=\"0.9999999999999997\" fill=\"currentColor\" stroke-width=\"0.1\"/>\n",
       "<rect x=\"174.99999999999997\" y=\"-125.0\" width=\"25.0\" height=\"25.0\" opacity=\"0.09999999999999977\" fill=\"currentColor\" stroke-width=\"0.1\"/>\n",
       "<rect x=\"200.00000000000003\" y=\"-125.0\" width=\"25.0\" height=\"25.0\" opacity=\"0.0\" fill=\"currentColor\" stroke-width=\"0.1\"/>\n",
       "<rect x=\"225.0\" y=\"-125.0\" width=\"25.0\" height=\"25.0\" opacity=\"0.0\" fill=\"currentColor\" stroke-width=\"0.1\"/>\n",
       "<rect x=\"0.0\" y=\"-150.0\" width=\"25.0\" height=\"25.0\" opacity=\"0.0\" fill=\"currentColor\" stroke-width=\"0.1\"/>\n",
       "<rect x=\"24.999999999999986\" y=\"-150.0\" width=\"25.0\" height=\"25.0\" opacity=\"0.19999999999999984\" fill=\"currentColor\" stroke-width=\"0.1\"/>\n",
       "<rect x=\"49.999999999999986\" y=\"-150.0\" width=\"25.0\" height=\"25.0\" opacity=\"0.29999999999999954\" fill=\"currentColor\" stroke-width=\"0.1\"/>\n",
       "<rect x=\"75.00000000000001\" y=\"-150.0\" width=\"25.0\" height=\"25.0\" opacity=\"0.5999999999999995\" fill=\"currentColor\" stroke-width=\"0.1\"/>\n",
       "<rect x=\"100.00000000000001\" y=\"-150.0\" width=\"25.0\" height=\"25.0\" opacity=\"0.5\" fill=\"currentColor\" stroke-width=\"0.1\"/>\n",
       "<rect x=\"125.0\" y=\"-150.0\" width=\"25.0\" height=\"25.0\" opacity=\"0.5\" fill=\"currentColor\" stroke-width=\"0.1\"/>\n",
       "<rect x=\"150.0\" y=\"-150.0\" width=\"25.0\" height=\"25.0\" opacity=\"0.49999999999999983\" fill=\"currentColor\" stroke-width=\"0.1\"/>\n",
       "<rect x=\"174.99999999999997\" y=\"-150.0\" width=\"25.0\" height=\"25.0\" opacity=\"0.09999999999999977\" fill=\"currentColor\" stroke-width=\"0.1\"/>\n",
       "<rect x=\"200.00000000000003\" y=\"-150.0\" width=\"25.0\" height=\"25.0\" opacity=\"0.0\" fill=\"currentColor\" stroke-width=\"0.1\"/>\n",
       "<rect x=\"225.0\" y=\"-150.0\" width=\"25.0\" height=\"25.0\" opacity=\"0.0\" fill=\"currentColor\" stroke-width=\"0.1\"/>\n",
       "<rect x=\"0.0\" y=\"-175.0\" width=\"25.0\" height=\"25.0\" opacity=\"0.0\" fill=\"currentColor\" stroke-width=\"0.1\"/>\n",
       "<rect x=\"24.999999999999986\" y=\"-175.0\" width=\"25.0\" height=\"25.0\" opacity=\"0.0\" fill=\"currentColor\" stroke-width=\"0.1\"/>\n",
       "<rect x=\"49.999999999999986\" y=\"-175.0\" width=\"25.0\" height=\"25.0\" opacity=\"0.1999999999999997\" fill=\"currentColor\" stroke-width=\"0.1\"/>\n",
       "<rect x=\"75.00000000000001\" y=\"-175.0\" width=\"25.0\" height=\"25.0\" opacity=\"0.09999999999999992\" fill=\"currentColor\" stroke-width=\"0.1\"/>\n",
       "<rect x=\"100.00000000000001\" y=\"-175.0\" width=\"25.0\" height=\"25.0\" opacity=\"0.3\" fill=\"currentColor\" stroke-width=\"0.1\"/>\n",
       "<rect x=\"125.0\" y=\"-175.0\" width=\"25.0\" height=\"25.0\" opacity=\"0.3\" fill=\"currentColor\" stroke-width=\"0.1\"/>\n",
       "<rect x=\"150.0\" y=\"-175.0\" width=\"25.0\" height=\"25.0\" opacity=\"0.5999999999999998\" fill=\"currentColor\" stroke-width=\"0.1\"/>\n",
       "<rect x=\"174.99999999999997\" y=\"-175.0\" width=\"25.0\" height=\"25.0\" opacity=\"0.19999999999999954\" fill=\"currentColor\" stroke-width=\"0.1\"/>\n",
       "<rect x=\"200.00000000000003\" y=\"-175.0\" width=\"25.0\" height=\"25.0\" opacity=\"0.0\" fill=\"currentColor\" stroke-width=\"0.1\"/>\n",
       "<rect x=\"225.0\" y=\"-175.0\" width=\"25.0\" height=\"25.0\" opacity=\"0.0\" fill=\"currentColor\" stroke-width=\"0.1\"/>\n",
       "<rect x=\"0.0\" y=\"-200.0\" width=\"25.0\" height=\"25.0\" opacity=\"0.0\" fill=\"currentColor\" stroke-width=\"0.1\"/>\n",
       "<rect x=\"24.999999999999986\" y=\"-200.0\" width=\"25.0\" height=\"25.0\" opacity=\"0.0\" fill=\"currentColor\" stroke-width=\"0.1\"/>\n",
       "<rect x=\"49.999999999999986\" y=\"-200.0\" width=\"25.0\" height=\"25.0\" opacity=\"0.0\" fill=\"currentColor\" stroke-width=\"0.1\"/>\n",
       "<rect x=\"75.00000000000001\" y=\"-200.0\" width=\"25.0\" height=\"25.0\" opacity=\"0.0\" fill=\"currentColor\" stroke-width=\"0.1\"/>\n",
       "<rect x=\"100.00000000000001\" y=\"-200.0\" width=\"25.0\" height=\"25.0\" opacity=\"0.0\" fill=\"currentColor\" stroke-width=\"0.1\"/>\n",
       "<rect x=\"125.0\" y=\"-200.0\" width=\"25.0\" height=\"25.0\" opacity=\"0.0\" fill=\"currentColor\" stroke-width=\"0.1\"/>\n",
       "<rect x=\"150.0\" y=\"-200.0\" width=\"25.0\" height=\"25.0\" opacity=\"0.0\" fill=\"currentColor\" stroke-width=\"0.1\"/>\n",
       "<rect x=\"174.99999999999997\" y=\"-200.0\" width=\"25.0\" height=\"25.0\" opacity=\"0.0\" fill=\"currentColor\" stroke-width=\"0.1\"/>\n",
       "<rect x=\"200.00000000000003\" y=\"-200.0\" width=\"25.0\" height=\"25.0\" opacity=\"0.0\" fill=\"currentColor\" stroke-width=\"0.1\"/>\n",
       "<rect x=\"225.0\" y=\"-200.0\" width=\"25.0\" height=\"25.0\" opacity=\"0.0\" fill=\"currentColor\" stroke-width=\"0.1\"/>\n",
       "<rect x=\"0.0\" y=\"-225.0\" width=\"25.0\" height=\"25.0\" opacity=\"0.0\" fill=\"currentColor\" stroke-width=\"0.1\"/>\n",
       "<rect x=\"24.999999999999986\" y=\"-225.0\" width=\"25.0\" height=\"25.0\" opacity=\"0.0\" fill=\"currentColor\" stroke-width=\"0.1\"/>\n",
       "<rect x=\"49.999999999999986\" y=\"-225.0\" width=\"25.0\" height=\"25.0\" opacity=\"0.0\" fill=\"currentColor\" stroke-width=\"0.1\"/>\n",
       "<rect x=\"75.00000000000001\" y=\"-225.0\" width=\"25.0\" height=\"25.0\" opacity=\"0.0\" fill=\"currentColor\" stroke-width=\"0.1\"/>\n",
       "<rect x=\"100.00000000000001\" y=\"-225.0\" width=\"25.0\" height=\"25.0\" opacity=\"0.0\" fill=\"currentColor\" stroke-width=\"0.1\"/>\n",
       "<rect x=\"125.0\" y=\"-225.0\" width=\"25.0\" height=\"25.0\" opacity=\"0.0\" fill=\"currentColor\" stroke-width=\"0.1\"/>\n",
       "<rect x=\"150.0\" y=\"-225.0\" width=\"25.0\" height=\"25.0\" opacity=\"0.0\" fill=\"currentColor\" stroke-width=\"0.1\"/>\n",
       "<rect x=\"174.99999999999997\" y=\"-225.0\" width=\"25.0\" height=\"25.0\" opacity=\"0.0\" fill=\"currentColor\" stroke-width=\"0.1\"/>\n",
       "<rect x=\"200.00000000000003\" y=\"-225.0\" width=\"25.0\" height=\"25.0\" opacity=\"0.0\" fill=\"currentColor\" stroke-width=\"0.1\"/>\n",
       "<rect x=\"225.0\" y=\"-225.0\" width=\"25.0\" height=\"25.0\" opacity=\"0.0\" fill=\"currentColor\" stroke-width=\"0.1\"/>\n",
       "<rect x=\"0.0\" y=\"-250.0\" width=\"25.0\" height=\"25.0\" opacity=\"0.0\" fill=\"currentColor\" stroke-width=\"0.1\"/>\n",
       "<rect x=\"24.999999999999986\" y=\"-250.0\" width=\"25.0\" height=\"25.0\" opacity=\"0.0\" fill=\"currentColor\" stroke-width=\"0.1\"/>\n",
       "<rect x=\"49.999999999999986\" y=\"-250.0\" width=\"25.0\" height=\"25.0\" opacity=\"0.0\" fill=\"currentColor\" stroke-width=\"0.1\"/>\n",
       "<rect x=\"75.00000000000001\" y=\"-250.0\" width=\"25.0\" height=\"25.0\" opacity=\"0.0\" fill=\"currentColor\" stroke-width=\"0.1\"/>\n",
       "<rect x=\"100.00000000000001\" y=\"-250.0\" width=\"25.0\" height=\"25.0\" opacity=\"0.0\" fill=\"currentColor\" stroke-width=\"0.1\"/>\n",
       "<rect x=\"125.0\" y=\"-250.0\" width=\"25.0\" height=\"25.0\" opacity=\"0.0\" fill=\"currentColor\" stroke-width=\"0.1\"/>\n",
       "<rect x=\"150.0\" y=\"-250.0\" width=\"25.0\" height=\"25.0\" opacity=\"0.0\" fill=\"currentColor\" stroke-width=\"0.1\"/>\n",
       "<rect x=\"174.99999999999997\" y=\"-250.0\" width=\"25.0\" height=\"25.0\" opacity=\"0.0\" fill=\"currentColor\" stroke-width=\"0.1\"/>\n",
       "<rect x=\"200.00000000000003\" y=\"-250.0\" width=\"25.0\" height=\"25.0\" opacity=\"0.0\" fill=\"currentColor\" stroke-width=\"0.1\"/>\n",
       "<rect x=\"225.0\" y=\"-250.0\" width=\"25.0\" height=\"25.0\" opacity=\"0.0\" fill=\"currentColor\" stroke-width=\"0.1\"/>\n",
       "</svg>\n",
       "</div>\n",
       "<div style=\"flex=grow:1;\">\n",
       "Regular(10, -3, 3, label='Axis 0')<br/>\n",
       "Variable([-5, -4, -3, -2, -1, 0, 1, 2, 3, 4, 5], label='Axis 1')<br/>\n",
       "<hr style=\"margin-top:.2em; margin-bottom:.2em;\"/>\n",
       "Double() Σ=100.0\n",
       "\n",
       "</div>\n",
       "</div>\n",
       "</html>"
      ],
      "text/plain": [
       "Hist(\n",
       "  Regular(10, -3, 3, label='Axis 0'),\n",
       "  Variable([-5, -4, -3, -2, -1, 0, 1, 2, 3, 4, 5], label='Axis 1'),\n",
       "  storage=Double()) # Sum: 100.0"
      ]
     },
     "execution_count": 11,
     "metadata": {},
     "output_type": "execute_result"
    }
   ],
   "source": [
    "unnamed_hist.fill(np.random.randn(100), np.random.randn(100), np.random.randn(100)).project(0, 1)"
   ]
  },
  {
   "cell_type": "code",
   "execution_count": 12,
   "id": "0ccb7466-dd20-4fec-9b2d-eea3e8e4a06e",
   "metadata": {},
   "outputs": [
    {
     "data": {
      "text/html": [
       "<html>\n",
       "<div style=\"display:flex; align-items:center;\">\n",
       "<div style=\"width:290px;\">\n",
       "<svg xmlns=\"http://www.w3.org/2000/svg\" viewBox=\"-20 -270 290 290\">\n",
       "<text text-anchor=\"middle\" x=\"0\" y=\"13\" style=\"fill:currentColor;\">\n",
       "-3\n",
       "</text>\n",
       "<text text-anchor=\"middle\" x=\"250\" y=\"13\" style=\"fill:currentColor;\">\n",
       "3\n",
       "</text>\n",
       "<text text-anchor=\"middle\" x=\"-10\" y=\"0\" style=\"fill:currentColor;\">\n",
       "-5\n",
       "</text>\n",
       "<text text-anchor=\"middle\" x=\"-10\" y=\"-250\" style=\"fill:currentColor;\">\n",
       "5\n",
       "</text>\n",
       "<text text-anchor=\"middle\" x=\"125.0\" y=\"13\" style=\"fill:currentColor;\">\n",
       "x [unit]\n",
       "</text>\n",
       "<text text-anchor=\"middle\" x=\"-10\" y=\"-125.0\" transform=\"rotate(-90,-10,-125.0)\" style=\"fill:currentColor;\">\n",
       "y [unit]\n",
       "</text>\n",
       "<rect x=\"0.0\" y=\"-25.0\" width=\"25.0\" height=\"25.0\" opacity=\"0.0\" fill=\"currentColor\" stroke-width=\"0.1\"/>\n",
       "<rect x=\"24.999999999999986\" y=\"-25.0\" width=\"25.0\" height=\"25.0\" opacity=\"0.0\" fill=\"currentColor\" stroke-width=\"0.1\"/>\n",
       "<rect x=\"49.999999999999986\" y=\"-25.0\" width=\"25.0\" height=\"25.0\" opacity=\"0.0\" fill=\"currentColor\" stroke-width=\"0.1\"/>\n",
       "<rect x=\"75.00000000000001\" y=\"-25.0\" width=\"25.0\" height=\"25.0\" opacity=\"0.0\" fill=\"currentColor\" stroke-width=\"0.1\"/>\n",
       "<rect x=\"100.00000000000001\" y=\"-25.0\" width=\"25.0\" height=\"25.0\" opacity=\"0.0\" fill=\"currentColor\" stroke-width=\"0.1\"/>\n",
       "<rect x=\"125.0\" y=\"-25.0\" width=\"25.0\" height=\"25.0\" opacity=\"0.0\" fill=\"currentColor\" stroke-width=\"0.1\"/>\n",
       "<rect x=\"150.0\" y=\"-25.0\" width=\"25.0\" height=\"25.0\" opacity=\"0.0\" fill=\"currentColor\" stroke-width=\"0.1\"/>\n",
       "<rect x=\"174.99999999999997\" y=\"-25.0\" width=\"25.0\" height=\"25.0\" opacity=\"0.0\" fill=\"currentColor\" stroke-width=\"0.1\"/>\n",
       "<rect x=\"200.00000000000003\" y=\"-25.0\" width=\"25.0\" height=\"25.0\" opacity=\"0.0\" fill=\"currentColor\" stroke-width=\"0.1\"/>\n",
       "<rect x=\"225.0\" y=\"-25.0\" width=\"25.0\" height=\"25.0\" opacity=\"0.0\" fill=\"currentColor\" stroke-width=\"0.1\"/>\n",
       "<rect x=\"0.0\" y=\"-50.0\" width=\"25.0\" height=\"25.0\" opacity=\"0.0\" fill=\"currentColor\" stroke-width=\"0.1\"/>\n",
       "<rect x=\"24.999999999999986\" y=\"-50.0\" width=\"25.0\" height=\"25.0\" opacity=\"0.0\" fill=\"currentColor\" stroke-width=\"0.1\"/>\n",
       "<rect x=\"49.999999999999986\" y=\"-50.0\" width=\"25.0\" height=\"25.0\" opacity=\"0.0\" fill=\"currentColor\" stroke-width=\"0.1\"/>\n",
       "<rect x=\"75.00000000000001\" y=\"-50.0\" width=\"25.0\" height=\"25.0\" opacity=\"0.0\" fill=\"currentColor\" stroke-width=\"0.1\"/>\n",
       "<rect x=\"100.00000000000001\" y=\"-50.0\" width=\"25.0\" height=\"25.0\" opacity=\"0.0\" fill=\"currentColor\" stroke-width=\"0.1\"/>\n",
       "<rect x=\"125.0\" y=\"-50.0\" width=\"25.0\" height=\"25.0\" opacity=\"0.11111111111111112\" fill=\"currentColor\" stroke-width=\"0.1\"/>\n",
       "<rect x=\"150.0\" y=\"-50.0\" width=\"25.0\" height=\"25.0\" opacity=\"0.0\" fill=\"currentColor\" stroke-width=\"0.1\"/>\n",
       "<rect x=\"174.99999999999997\" y=\"-50.0\" width=\"25.0\" height=\"25.0\" opacity=\"0.0\" fill=\"currentColor\" stroke-width=\"0.1\"/>\n",
       "<rect x=\"200.00000000000003\" y=\"-50.0\" width=\"25.0\" height=\"25.0\" opacity=\"0.0\" fill=\"currentColor\" stroke-width=\"0.1\"/>\n",
       "<rect x=\"225.0\" y=\"-50.0\" width=\"25.0\" height=\"25.0\" opacity=\"0.0\" fill=\"currentColor\" stroke-width=\"0.1\"/>\n",
       "<rect x=\"0.0\" y=\"-75.0\" width=\"25.0\" height=\"25.0\" opacity=\"0.0\" fill=\"currentColor\" stroke-width=\"0.1\"/>\n",
       "<rect x=\"24.999999999999986\" y=\"-75.0\" width=\"25.0\" height=\"25.0\" opacity=\"0.0\" fill=\"currentColor\" stroke-width=\"0.1\"/>\n",
       "<rect x=\"49.999999999999986\" y=\"-75.0\" width=\"25.0\" height=\"25.0\" opacity=\"0.0\" fill=\"currentColor\" stroke-width=\"0.1\"/>\n",
       "<rect x=\"75.00000000000001\" y=\"-75.0\" width=\"25.0\" height=\"25.0\" opacity=\"0.11111111111111104\" fill=\"currentColor\" stroke-width=\"0.1\"/>\n",
       "<rect x=\"100.00000000000001\" y=\"-75.0\" width=\"25.0\" height=\"25.0\" opacity=\"0.0\" fill=\"currentColor\" stroke-width=\"0.1\"/>\n",
       "<rect x=\"125.0\" y=\"-75.0\" width=\"25.0\" height=\"25.0\" opacity=\"0.22222222222222224\" fill=\"currentColor\" stroke-width=\"0.1\"/>\n",
       "<rect x=\"150.0\" y=\"-75.0\" width=\"25.0\" height=\"25.0\" opacity=\"0.0\" fill=\"currentColor\" stroke-width=\"0.1\"/>\n",
       "<rect x=\"174.99999999999997\" y=\"-75.0\" width=\"25.0\" height=\"25.0\" opacity=\"0.0\" fill=\"currentColor\" stroke-width=\"0.1\"/>\n",
       "<rect x=\"200.00000000000003\" y=\"-75.0\" width=\"25.0\" height=\"25.0\" opacity=\"0.0\" fill=\"currentColor\" stroke-width=\"0.1\"/>\n",
       "<rect x=\"225.0\" y=\"-75.0\" width=\"25.0\" height=\"25.0\" opacity=\"0.0\" fill=\"currentColor\" stroke-width=\"0.1\"/>\n",
       "<rect x=\"0.0\" y=\"-100.0\" width=\"25.0\" height=\"25.0\" opacity=\"0.0\" fill=\"currentColor\" stroke-width=\"0.1\"/>\n",
       "<rect x=\"24.999999999999986\" y=\"-100.0\" width=\"25.0\" height=\"25.0\" opacity=\"0.0\" fill=\"currentColor\" stroke-width=\"0.1\"/>\n",
       "<rect x=\"49.999999999999986\" y=\"-100.0\" width=\"25.0\" height=\"25.0\" opacity=\"0.44444444444444386\" fill=\"currentColor\" stroke-width=\"0.1\"/>\n",
       "<rect x=\"75.00000000000001\" y=\"-100.0\" width=\"25.0\" height=\"25.0\" opacity=\"0.5555555555555552\" fill=\"currentColor\" stroke-width=\"0.1\"/>\n",
       "<rect x=\"100.00000000000001\" y=\"-100.0\" width=\"25.0\" height=\"25.0\" opacity=\"0.4444444444444445\" fill=\"currentColor\" stroke-width=\"0.1\"/>\n",
       "<rect x=\"125.0\" y=\"-100.0\" width=\"25.0\" height=\"25.0\" opacity=\"0.4444444444444445\" fill=\"currentColor\" stroke-width=\"0.1\"/>\n",
       "<rect x=\"150.0\" y=\"-100.0\" width=\"25.0\" height=\"25.0\" opacity=\"0.0\" fill=\"currentColor\" stroke-width=\"0.1\"/>\n",
       "<rect x=\"174.99999999999997\" y=\"-100.0\" width=\"25.0\" height=\"25.0\" opacity=\"0.11111111111111087\" fill=\"currentColor\" stroke-width=\"0.1\"/>\n",
       "<rect x=\"200.00000000000003\" y=\"-100.0\" width=\"25.0\" height=\"25.0\" opacity=\"0.0\" fill=\"currentColor\" stroke-width=\"0.1\"/>\n",
       "<rect x=\"225.0\" y=\"-100.0\" width=\"25.0\" height=\"25.0\" opacity=\"0.0\" fill=\"currentColor\" stroke-width=\"0.1\"/>\n",
       "<rect x=\"0.0\" y=\"-125.0\" width=\"25.0\" height=\"25.0\" opacity=\"0.0\" fill=\"currentColor\" stroke-width=\"0.1\"/>\n",
       "<rect x=\"24.999999999999986\" y=\"-125.0\" width=\"25.0\" height=\"25.0\" opacity=\"0.0\" fill=\"currentColor\" stroke-width=\"0.1\"/>\n",
       "<rect x=\"49.999999999999986\" y=\"-125.0\" width=\"25.0\" height=\"25.0\" opacity=\"0.6666666666666657\" fill=\"currentColor\" stroke-width=\"0.1\"/>\n",
       "<rect x=\"75.00000000000001\" y=\"-125.0\" width=\"25.0\" height=\"25.0\" opacity=\"0.33333333333333315\" fill=\"currentColor\" stroke-width=\"0.1\"/>\n",
       "<rect x=\"100.00000000000001\" y=\"-125.0\" width=\"25.0\" height=\"25.0\" opacity=\"0.888888888888889\" fill=\"currentColor\" stroke-width=\"0.1\"/>\n",
       "<rect x=\"125.0\" y=\"-125.0\" width=\"25.0\" height=\"25.0\" opacity=\"0.7777777777777779\" fill=\"currentColor\" stroke-width=\"0.1\"/>\n",
       "<rect x=\"150.0\" y=\"-125.0\" width=\"25.0\" height=\"25.0\" opacity=\"0.4444444444444443\" fill=\"currentColor\" stroke-width=\"0.1\"/>\n",
       "<rect x=\"174.99999999999997\" y=\"-125.0\" width=\"25.0\" height=\"25.0\" opacity=\"0.22222222222222174\" fill=\"currentColor\" stroke-width=\"0.1\"/>\n",
       "<rect x=\"200.00000000000003\" y=\"-125.0\" width=\"25.0\" height=\"25.0\" opacity=\"0.11111111111111108\" fill=\"currentColor\" stroke-width=\"0.1\"/>\n",
       "<rect x=\"225.0\" y=\"-125.0\" width=\"25.0\" height=\"25.0\" opacity=\"0.0\" fill=\"currentColor\" stroke-width=\"0.1\"/>\n",
       "<rect x=\"0.0\" y=\"-150.0\" width=\"25.0\" height=\"25.0\" opacity=\"0.0\" fill=\"currentColor\" stroke-width=\"0.1\"/>\n",
       "<rect x=\"24.999999999999986\" y=\"-150.0\" width=\"25.0\" height=\"25.0\" opacity=\"0.0\" fill=\"currentColor\" stroke-width=\"0.1\"/>\n",
       "<rect x=\"49.999999999999986\" y=\"-150.0\" width=\"25.0\" height=\"25.0\" opacity=\"0.22222222222222193\" fill=\"currentColor\" stroke-width=\"0.1\"/>\n",
       "<rect x=\"75.00000000000001\" y=\"-150.0\" width=\"25.0\" height=\"25.0\" opacity=\"0.6666666666666663\" fill=\"currentColor\" stroke-width=\"0.1\"/>\n",
       "<rect x=\"100.00000000000001\" y=\"-150.0\" width=\"25.0\" height=\"25.0\" opacity=\"1.0\" fill=\"currentColor\" stroke-width=\"0.1\"/>\n",
       "<rect x=\"125.0\" y=\"-150.0\" width=\"25.0\" height=\"25.0\" opacity=\"0.5555555555555556\" fill=\"currentColor\" stroke-width=\"0.1\"/>\n",
       "<rect x=\"150.0\" y=\"-150.0\" width=\"25.0\" height=\"25.0\" opacity=\"0.5555555555555555\" fill=\"currentColor\" stroke-width=\"0.1\"/>\n",
       "<rect x=\"174.99999999999997\" y=\"-150.0\" width=\"25.0\" height=\"25.0\" opacity=\"0.0\" fill=\"currentColor\" stroke-width=\"0.1\"/>\n",
       "<rect x=\"200.00000000000003\" y=\"-150.0\" width=\"25.0\" height=\"25.0\" opacity=\"0.11111111111111108\" fill=\"currentColor\" stroke-width=\"0.1\"/>\n",
       "<rect x=\"225.0\" y=\"-150.0\" width=\"25.0\" height=\"25.0\" opacity=\"0.0\" fill=\"currentColor\" stroke-width=\"0.1\"/>\n",
       "<rect x=\"0.0\" y=\"-175.0\" width=\"25.0\" height=\"25.0\" opacity=\"0.0\" fill=\"currentColor\" stroke-width=\"0.1\"/>\n",
       "<rect x=\"24.999999999999986\" y=\"-175.0\" width=\"25.0\" height=\"25.0\" opacity=\"0.0\" fill=\"currentColor\" stroke-width=\"0.1\"/>\n",
       "<rect x=\"49.999999999999986\" y=\"-175.0\" width=\"25.0\" height=\"25.0\" opacity=\"0.22222222222222193\" fill=\"currentColor\" stroke-width=\"0.1\"/>\n",
       "<rect x=\"75.00000000000001\" y=\"-175.0\" width=\"25.0\" height=\"25.0\" opacity=\"0.22222222222222207\" fill=\"currentColor\" stroke-width=\"0.1\"/>\n",
       "<rect x=\"100.00000000000001\" y=\"-175.0\" width=\"25.0\" height=\"25.0\" opacity=\"0.4444444444444445\" fill=\"currentColor\" stroke-width=\"0.1\"/>\n",
       "<rect x=\"125.0\" y=\"-175.0\" width=\"25.0\" height=\"25.0\" opacity=\"0.4444444444444445\" fill=\"currentColor\" stroke-width=\"0.1\"/>\n",
       "<rect x=\"150.0\" y=\"-175.0\" width=\"25.0\" height=\"25.0\" opacity=\"0.6666666666666664\" fill=\"currentColor\" stroke-width=\"0.1\"/>\n",
       "<rect x=\"174.99999999999997\" y=\"-175.0\" width=\"25.0\" height=\"25.0\" opacity=\"0.0\" fill=\"currentColor\" stroke-width=\"0.1\"/>\n",
       "<rect x=\"200.00000000000003\" y=\"-175.0\" width=\"25.0\" height=\"25.0\" opacity=\"0.0\" fill=\"currentColor\" stroke-width=\"0.1\"/>\n",
       "<rect x=\"225.0\" y=\"-175.0\" width=\"25.0\" height=\"25.0\" opacity=\"0.0\" fill=\"currentColor\" stroke-width=\"0.1\"/>\n",
       "<rect x=\"0.0\" y=\"-200.0\" width=\"25.0\" height=\"25.0\" opacity=\"0.0\" fill=\"currentColor\" stroke-width=\"0.1\"/>\n",
       "<rect x=\"24.999999999999986\" y=\"-200.0\" width=\"25.0\" height=\"25.0\" opacity=\"0.0\" fill=\"currentColor\" stroke-width=\"0.1\"/>\n",
       "<rect x=\"49.999999999999986\" y=\"-200.0\" width=\"25.0\" height=\"25.0\" opacity=\"0.0\" fill=\"currentColor\" stroke-width=\"0.1\"/>\n",
       "<rect x=\"75.00000000000001\" y=\"-200.0\" width=\"25.0\" height=\"25.0\" opacity=\"0.0\" fill=\"currentColor\" stroke-width=\"0.1\"/>\n",
       "<rect x=\"100.00000000000001\" y=\"-200.0\" width=\"25.0\" height=\"25.0\" opacity=\"0.0\" fill=\"currentColor\" stroke-width=\"0.1\"/>\n",
       "<rect x=\"125.0\" y=\"-200.0\" width=\"25.0\" height=\"25.0\" opacity=\"0.11111111111111112\" fill=\"currentColor\" stroke-width=\"0.1\"/>\n",
       "<rect x=\"150.0\" y=\"-200.0\" width=\"25.0\" height=\"25.0\" opacity=\"0.0\" fill=\"currentColor\" stroke-width=\"0.1\"/>\n",
       "<rect x=\"174.99999999999997\" y=\"-200.0\" width=\"25.0\" height=\"25.0\" opacity=\"0.0\" fill=\"currentColor\" stroke-width=\"0.1\"/>\n",
       "<rect x=\"200.00000000000003\" y=\"-200.0\" width=\"25.0\" height=\"25.0\" opacity=\"0.0\" fill=\"currentColor\" stroke-width=\"0.1\"/>\n",
       "<rect x=\"225.0\" y=\"-200.0\" width=\"25.0\" height=\"25.0\" opacity=\"0.0\" fill=\"currentColor\" stroke-width=\"0.1\"/>\n",
       "<rect x=\"0.0\" y=\"-225.0\" width=\"25.0\" height=\"25.0\" opacity=\"0.0\" fill=\"currentColor\" stroke-width=\"0.1\"/>\n",
       "<rect x=\"24.999999999999986\" y=\"-225.0\" width=\"25.0\" height=\"25.0\" opacity=\"0.0\" fill=\"currentColor\" stroke-width=\"0.1\"/>\n",
       "<rect x=\"49.999999999999986\" y=\"-225.0\" width=\"25.0\" height=\"25.0\" opacity=\"0.0\" fill=\"currentColor\" stroke-width=\"0.1\"/>\n",
       "<rect x=\"75.00000000000001\" y=\"-225.0\" width=\"25.0\" height=\"25.0\" opacity=\"0.0\" fill=\"currentColor\" stroke-width=\"0.1\"/>\n",
       "<rect x=\"100.00000000000001\" y=\"-225.0\" width=\"25.0\" height=\"25.0\" opacity=\"0.0\" fill=\"currentColor\" stroke-width=\"0.1\"/>\n",
       "<rect x=\"125.0\" y=\"-225.0\" width=\"25.0\" height=\"25.0\" opacity=\"0.0\" fill=\"currentColor\" stroke-width=\"0.1\"/>\n",
       "<rect x=\"150.0\" y=\"-225.0\" width=\"25.0\" height=\"25.0\" opacity=\"0.0\" fill=\"currentColor\" stroke-width=\"0.1\"/>\n",
       "<rect x=\"174.99999999999997\" y=\"-225.0\" width=\"25.0\" height=\"25.0\" opacity=\"0.0\" fill=\"currentColor\" stroke-width=\"0.1\"/>\n",
       "<rect x=\"200.00000000000003\" y=\"-225.0\" width=\"25.0\" height=\"25.0\" opacity=\"0.0\" fill=\"currentColor\" stroke-width=\"0.1\"/>\n",
       "<rect x=\"225.0\" y=\"-225.0\" width=\"25.0\" height=\"25.0\" opacity=\"0.0\" fill=\"currentColor\" stroke-width=\"0.1\"/>\n",
       "<rect x=\"0.0\" y=\"-250.0\" width=\"25.0\" height=\"25.0\" opacity=\"0.0\" fill=\"currentColor\" stroke-width=\"0.1\"/>\n",
       "<rect x=\"24.999999999999986\" y=\"-250.0\" width=\"25.0\" height=\"25.0\" opacity=\"0.0\" fill=\"currentColor\" stroke-width=\"0.1\"/>\n",
       "<rect x=\"49.999999999999986\" y=\"-250.0\" width=\"25.0\" height=\"25.0\" opacity=\"0.0\" fill=\"currentColor\" stroke-width=\"0.1\"/>\n",
       "<rect x=\"75.00000000000001\" y=\"-250.0\" width=\"25.0\" height=\"25.0\" opacity=\"0.0\" fill=\"currentColor\" stroke-width=\"0.1\"/>\n",
       "<rect x=\"100.00000000000001\" y=\"-250.0\" width=\"25.0\" height=\"25.0\" opacity=\"0.0\" fill=\"currentColor\" stroke-width=\"0.1\"/>\n",
       "<rect x=\"125.0\" y=\"-250.0\" width=\"25.0\" height=\"25.0\" opacity=\"0.0\" fill=\"currentColor\" stroke-width=\"0.1\"/>\n",
       "<rect x=\"150.0\" y=\"-250.0\" width=\"25.0\" height=\"25.0\" opacity=\"0.0\" fill=\"currentColor\" stroke-width=\"0.1\"/>\n",
       "<rect x=\"174.99999999999997\" y=\"-250.0\" width=\"25.0\" height=\"25.0\" opacity=\"0.0\" fill=\"currentColor\" stroke-width=\"0.1\"/>\n",
       "<rect x=\"200.00000000000003\" y=\"-250.0\" width=\"25.0\" height=\"25.0\" opacity=\"0.0\" fill=\"currentColor\" stroke-width=\"0.1\"/>\n",
       "<rect x=\"225.0\" y=\"-250.0\" width=\"25.0\" height=\"25.0\" opacity=\"0.0\" fill=\"currentColor\" stroke-width=\"0.1\"/>\n",
       "</svg>\n",
       "</div>\n",
       "<div style=\"flex=grow:1;\">\n",
       "Regular(10, -3, 3, name='X', label='x [unit]')<br/>\n",
       "Variable([-5, -4, -3, -2, -1, 0, 1, 2, 3, 4, 5], name='Y', label='y [unit]')<br/>\n",
       "<hr style=\"margin-top:.2em; margin-bottom:.2em;\"/>\n",
       "Double() Σ=100.0\n",
       "\n",
       "</div>\n",
       "</div>\n",
       "</html>"
      ],
      "text/plain": [
       "Hist(\n",
       "  Regular(10, -3, 3, name='X', label='x [unit]'),\n",
       "  Variable([-5, -4, -3, -2, -1, 0, 1, 2, 3, 4, 5], name='Y', label='y [unit]'),\n",
       "  storage=Double()) # Sum: 100.0"
      ]
     },
     "execution_count": 12,
     "metadata": {},
     "output_type": "execute_result"
    }
   ],
   "source": [
    "named_hist.fill(X=np.random.randn(100), Y=np.random.randn(100), Z=np.random.randn(100)).project(\"X\", \"Y\")"
   ]
  },
  {
   "cell_type": "markdown",
   "id": "86b3e485-4ab5-4a8d-af4e-a1dfc4a7dfbc",
   "metadata": {},
   "source": [
    "### Other Shortcuts"
   ]
  },
  {
   "cell_type": "code",
   "execution_count": null,
   "id": "90f07cce-4652-41f4-a471-440c93f0074b",
   "metadata": {},
   "outputs": [],
   "source": []
  }
 ],
 "metadata": {
  "kernelspec": {
   "display_name": "hist",
   "language": "python",
   "name": "hist"
  },
  "language_info": {
   "codemirror_mode": {
    "name": "ipython",
    "version": 3
   },
   "file_extension": ".py",
   "mimetype": "text/x-python",
   "name": "python",
   "nbconvert_exporter": "python",
   "pygments_lexer": "ipython3",
   "version": "3.9.4"
  }
 },
 "nbformat": 4,
 "nbformat_minor": 5
}
