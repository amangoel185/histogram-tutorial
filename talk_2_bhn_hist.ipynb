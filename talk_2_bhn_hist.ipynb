{
 "cells": [
  {
   "cell_type": "markdown",
   "id": "173c6e36-4d2a-4a60-952c-e2aa72e39bfc",
   "metadata": {},
   "source": [
    "# Part 2: boost-histogram plans and Hist"
   ]
  },
  {
   "cell_type": "markdown",
   "id": "73cc6d52-629c-4149-a420-87a762986db1",
   "metadata": {},
   "source": [
    "## Boost-histogram numbafication plans"
   ]
  },
  {
   "cell_type": "markdown",
   "id": "aa78fad8-6f40-4ef5-b195-1c91c67e177e",
   "metadata": {},
   "source": [
    "## Hist\n",
    "\n",
    "Hist extends boost-histogram with:\n",
    "* Named axes and labels\n",
    "* Fancy Jupyter reprs\n",
    "* UHI+: faster, easier to type indexing additions\n",
    "* QuickConstruct: a system to reduce the typing when making histograms\n",
    "* Other useful shortcuts, like density, pandas support, profiles from existing histograms, and more!"
   ]
  },
  {
   "cell_type": "markdown",
   "id": "d6a84c42-03ca-4fa4-a47c-3a8e31a12488",
   "metadata": {},
   "source": [
    "### Name shortcuts of Hist\n",
    "\n",
    "Hist allows names for Boost-histograms axes, the names are unique identifiers in a histogram which are used to support some useful features such as `.fill()` and `.project()`. Specially, hist designs `NamedHist` to provide name shortcuts for the histograms that contain named axes."
   ]
  },
  {
   "cell_type": "code",
   "execution_count": 1,
   "id": "125f5e5f-6517-458e-83ff-5476bf623cb9",
   "metadata": {},
   "outputs": [],
   "source": [
    "import numpy as np\n",
    "import boost_histogram as bh\n",
    "\n",
    "from hist import axis, Hist, NamedHist\n",
    "\n",
    "# named axes\n",
    "reg_axis = axis.Regular(10, -3, 3, overflow=False, underflow=False, name=\"X\", label=\"x [unit]\")\n",
    "var_axis = axis.Variable(range(-5, 6), name=\"Y\", label=\"y [unit]\")\n",
    "int_axis = axis.Integer(-3, 3, overflow=True, underflow=True, name=\"Z\", label=\"z [units]\")"
   ]
  },
  {
   "cell_type": "code",
   "execution_count": 2,
   "id": "d7dd631d-5c4a-41a6-854f-c4a96cfe450a",
   "metadata": {},
   "outputs": [
    {
     "name": "stdout",
     "output_type": "stream",
     "text": [
      "Name of axis 0: \tX;\n",
      "Label of axis 1: \ty [unit].\n"
     ]
    }
   ],
   "source": [
    "# histograms with named axes\n",
    "unnamed_hist = Hist(reg_axis, var_axis, int_axis)\n",
    "named_hist = NamedHist(reg_axis, var_axis, int_axis)\n",
    "\n",
    "print(\"Name of axis 0: \\t\" + named_hist.axes[0].name + \";\")\n",
    "print(\"Label of axis 1: \\t\" + named_hist.axes[1].label + \".\")"
   ]
  },
  {
   "cell_type": "code",
   "execution_count": 3,
   "id": "a872089f-897d-494c-9fee-b618765bb3e2",
   "metadata": {},
   "outputs": [],
   "source": [
    "# name shortcuts\n",
    "unnamed_hist_2d = unnamed_hist.fill(np.random.randn(100), np.random.randn(100), np.random.randn(100))\n",
    "unnamed_hist_2d = unnamed_hist.project(0, 1)\n",
    "named_hist_2d = named_hist.fill(X=np.random.randn(100), Y=np.random.randn(100), Z=np.random.randn(100))\n",
    "named_hist_2d = named_hist.project(\"X\", \"Y\")"
   ]
  },
  {
   "cell_type": "markdown",
   "id": "705c3a94-d291-4ddd-9877-13ef6f976845",
   "metadata": {},
   "source": [
    "### Repr\n",
    "\n",
    "Hist has custom reprs when displaying in a Jupyter and supports dark mode."
   ]
  },
  {
   "cell_type": "code",
   "execution_count": 4,
   "id": "020d0983-af9b-465e-b685-298444c848ab",
   "metadata": {},
   "outputs": [
    {
     "data": {
      "text/html": [
       "<html>\n",
       "<div style=\"display:flex; align-items:center;\">\n",
       "<div style=\"width:290px;\">\n",
       "<svg xmlns=\"http://www.w3.org/2000/svg\" viewBox=\"-10 -105 270 120\">\n",
       "<line x1=\"-5\" y1=\"0\" x2=\"255\" y2=\"0\" style=\"fill:none;stroke-width:2;stroke:currentColor\"/>\n",
       "<text text-anchor=\"middle\" x=\"0\" y=\"15\" style=\"fill:currentColor;\">\n",
       "-3\n",
       "</text>\n",
       "<text text-anchor=\"middle\" x=\"250\" y=\"15\" style=\"fill:currentColor;\">\n",
       "3\n",
       "</text>\n",
       "<text text-anchor=\"middle\" x=\"125.0\" y=\"15\" style=\"fill:currentColor;\">\n",
       "x [unit]\n",
       "</text>\n",
       "<polyline points=\"  0,0   0,-3.33  25,-3.33  25,-16.7  50,-16.7  50,-43.3  75,-43.3  75,-53.3 100,-53.3 100,-46.7 125,-46.7 125,-100 150,-100 150,-40 175,-40 175,-26.7 200,-26.7 200,-0 225,-0 225,-3.33 250,-3.33 250,0\" style=\"fill:none; stroke:currentColor;\"/>\n",
       "</svg>\n",
       "</div>\n",
       "<div style=\"flex=grow:1;\">\n",
       "Regular(10, -3, 3, underflow=False, overflow=False, name='X', label='x [unit]')<br/>\n",
       "<hr style=\"margin-top:.2em; margin-bottom:.2em;\"/>\n",
       "Double() Σ=100.0\n",
       "\n",
       "</div>\n",
       "</div>\n",
       "</html>"
      ],
      "text/plain": [
       "NamedHist(Regular(10, -3, 3, underflow=False, overflow=False, name='X', label='x [unit]'), storage=Double()) # Sum: 100.0"
      ]
     },
     "execution_count": 4,
     "metadata": {},
     "output_type": "execute_result"
    }
   ],
   "source": [
    "named_hist_2d.project(\"X\")"
   ]
  },
  {
   "cell_type": "code",
   "execution_count": 5,
   "id": "224dd75f-7d5d-4157-8a4b-2e519b065969",
   "metadata": {},
   "outputs": [
    {
     "data": {
      "text/html": [
       "<html>\n",
       "<div style=\"display:flex; align-items:center;\">\n",
       "<div style=\"width:290px;\">\n",
       "<svg xmlns=\"http://www.w3.org/2000/svg\" viewBox=\"-20 -270 290 290\">\n",
       "<text text-anchor=\"middle\" x=\"0\" y=\"13\" style=\"fill:currentColor;\">\n",
       "-3\n",
       "</text>\n",
       "<text text-anchor=\"middle\" x=\"250\" y=\"13\" style=\"fill:currentColor;\">\n",
       "3\n",
       "</text>\n",
       "<text text-anchor=\"middle\" x=\"-10\" y=\"0\" style=\"fill:currentColor;\">\n",
       "-5\n",
       "</text>\n",
       "<text text-anchor=\"middle\" x=\"-10\" y=\"-250\" style=\"fill:currentColor;\">\n",
       "5\n",
       "</text>\n",
       "<text text-anchor=\"middle\" x=\"125.0\" y=\"13\" style=\"fill:currentColor;\">\n",
       "x [unit]\n",
       "</text>\n",
       "<text text-anchor=\"middle\" x=\"-10\" y=\"-125.0\" transform=\"rotate(-90,-10,-125.0)\" style=\"fill:currentColor;\">\n",
       "y [unit]\n",
       "</text>\n",
       "<rect x=\"0.0\" y=\"-25.0\" width=\"25.0\" height=\"25.0\" opacity=\"0.0\" fill=\"currentColor\" stroke-width=\"0.1\"/>\n",
       "<rect x=\"24.999999999999986\" y=\"-25.0\" width=\"25.0\" height=\"25.0\" opacity=\"0.0\" fill=\"currentColor\" stroke-width=\"0.1\"/>\n",
       "<rect x=\"49.999999999999986\" y=\"-25.0\" width=\"25.0\" height=\"25.0\" opacity=\"0.0\" fill=\"currentColor\" stroke-width=\"0.1\"/>\n",
       "<rect x=\"75.00000000000001\" y=\"-25.0\" width=\"25.0\" height=\"25.0\" opacity=\"0.0\" fill=\"currentColor\" stroke-width=\"0.1\"/>\n",
       "<rect x=\"100.00000000000001\" y=\"-25.0\" width=\"25.0\" height=\"25.0\" opacity=\"0.0\" fill=\"currentColor\" stroke-width=\"0.1\"/>\n",
       "<rect x=\"125.0\" y=\"-25.0\" width=\"25.0\" height=\"25.0\" opacity=\"0.0\" fill=\"currentColor\" stroke-width=\"0.1\"/>\n",
       "<rect x=\"150.0\" y=\"-25.0\" width=\"25.0\" height=\"25.0\" opacity=\"0.0\" fill=\"currentColor\" stroke-width=\"0.1\"/>\n",
       "<rect x=\"174.99999999999997\" y=\"-25.0\" width=\"25.0\" height=\"25.0\" opacity=\"0.0\" fill=\"currentColor\" stroke-width=\"0.1\"/>\n",
       "<rect x=\"200.00000000000003\" y=\"-25.0\" width=\"25.0\" height=\"25.0\" opacity=\"0.0\" fill=\"currentColor\" stroke-width=\"0.1\"/>\n",
       "<rect x=\"225.0\" y=\"-25.0\" width=\"25.0\" height=\"25.0\" opacity=\"0.0\" fill=\"currentColor\" stroke-width=\"0.1\"/>\n",
       "<rect x=\"0.0\" y=\"-50.0\" width=\"25.0\" height=\"25.0\" opacity=\"0.0\" fill=\"currentColor\" stroke-width=\"0.1\"/>\n",
       "<rect x=\"24.999999999999986\" y=\"-50.0\" width=\"25.0\" height=\"25.0\" opacity=\"0.0\" fill=\"currentColor\" stroke-width=\"0.1\"/>\n",
       "<rect x=\"49.999999999999986\" y=\"-50.0\" width=\"25.0\" height=\"25.0\" opacity=\"0.0\" fill=\"currentColor\" stroke-width=\"0.1\"/>\n",
       "<rect x=\"75.00000000000001\" y=\"-50.0\" width=\"25.0\" height=\"25.0\" opacity=\"0.0\" fill=\"currentColor\" stroke-width=\"0.1\"/>\n",
       "<rect x=\"100.00000000000001\" y=\"-50.0\" width=\"25.0\" height=\"25.0\" opacity=\"0.0\" fill=\"currentColor\" stroke-width=\"0.1\"/>\n",
       "<rect x=\"125.0\" y=\"-50.0\" width=\"25.0\" height=\"25.0\" opacity=\"0.0\" fill=\"currentColor\" stroke-width=\"0.1\"/>\n",
       "<rect x=\"150.0\" y=\"-50.0\" width=\"25.0\" height=\"25.0\" opacity=\"0.0\" fill=\"currentColor\" stroke-width=\"0.1\"/>\n",
       "<rect x=\"174.99999999999997\" y=\"-50.0\" width=\"25.0\" height=\"25.0\" opacity=\"0.0\" fill=\"currentColor\" stroke-width=\"0.1\"/>\n",
       "<rect x=\"200.00000000000003\" y=\"-50.0\" width=\"25.0\" height=\"25.0\" opacity=\"0.0\" fill=\"currentColor\" stroke-width=\"0.1\"/>\n",
       "<rect x=\"225.0\" y=\"-50.0\" width=\"25.0\" height=\"25.0\" opacity=\"0.0\" fill=\"currentColor\" stroke-width=\"0.1\"/>\n",
       "<rect x=\"0.0\" y=\"-75.0\" width=\"25.0\" height=\"25.0\" opacity=\"0.0\" fill=\"currentColor\" stroke-width=\"0.1\"/>\n",
       "<rect x=\"24.999999999999986\" y=\"-75.0\" width=\"25.0\" height=\"25.0\" opacity=\"0.0\" fill=\"currentColor\" stroke-width=\"0.1\"/>\n",
       "<rect x=\"49.999999999999986\" y=\"-75.0\" width=\"25.0\" height=\"25.0\" opacity=\"0.07692307692307682\" fill=\"currentColor\" stroke-width=\"0.1\"/>\n",
       "<rect x=\"75.00000000000001\" y=\"-75.0\" width=\"25.0\" height=\"25.0\" opacity=\"0.0\" fill=\"currentColor\" stroke-width=\"0.1\"/>\n",
       "<rect x=\"100.00000000000001\" y=\"-75.0\" width=\"25.0\" height=\"25.0\" opacity=\"0.0\" fill=\"currentColor\" stroke-width=\"0.1\"/>\n",
       "<rect x=\"125.0\" y=\"-75.0\" width=\"25.0\" height=\"25.0\" opacity=\"0.07692307692307693\" fill=\"currentColor\" stroke-width=\"0.1\"/>\n",
       "<rect x=\"150.0\" y=\"-75.0\" width=\"25.0\" height=\"25.0\" opacity=\"0.0\" fill=\"currentColor\" stroke-width=\"0.1\"/>\n",
       "<rect x=\"174.99999999999997\" y=\"-75.0\" width=\"25.0\" height=\"25.0\" opacity=\"0.0\" fill=\"currentColor\" stroke-width=\"0.1\"/>\n",
       "<rect x=\"200.00000000000003\" y=\"-75.0\" width=\"25.0\" height=\"25.0\" opacity=\"0.0\" fill=\"currentColor\" stroke-width=\"0.1\"/>\n",
       "<rect x=\"225.0\" y=\"-75.0\" width=\"25.0\" height=\"25.0\" opacity=\"0.0\" fill=\"currentColor\" stroke-width=\"0.1\"/>\n",
       "<rect x=\"0.0\" y=\"-100.0\" width=\"25.0\" height=\"25.0\" opacity=\"0.0\" fill=\"currentColor\" stroke-width=\"0.1\"/>\n",
       "<rect x=\"24.999999999999986\" y=\"-100.0\" width=\"25.0\" height=\"25.0\" opacity=\"0.07692307692307686\" fill=\"currentColor\" stroke-width=\"0.1\"/>\n",
       "<rect x=\"49.999999999999986\" y=\"-100.0\" width=\"25.0\" height=\"25.0\" opacity=\"0.07692307692307682\" fill=\"currentColor\" stroke-width=\"0.1\"/>\n",
       "<rect x=\"75.00000000000001\" y=\"-100.0\" width=\"25.0\" height=\"25.0\" opacity=\"0.15384615384615372\" fill=\"currentColor\" stroke-width=\"0.1\"/>\n",
       "<rect x=\"100.00000000000001\" y=\"-100.0\" width=\"25.0\" height=\"25.0\" opacity=\"0.3076923076923077\" fill=\"currentColor\" stroke-width=\"0.1\"/>\n",
       "<rect x=\"125.0\" y=\"-100.0\" width=\"25.0\" height=\"25.0\" opacity=\"0.38461538461538464\" fill=\"currentColor\" stroke-width=\"0.1\"/>\n",
       "<rect x=\"150.0\" y=\"-100.0\" width=\"25.0\" height=\"25.0\" opacity=\"0.0769230769230769\" fill=\"currentColor\" stroke-width=\"0.1\"/>\n",
       "<rect x=\"174.99999999999997\" y=\"-100.0\" width=\"25.0\" height=\"25.0\" opacity=\"0.1538461538461535\" fill=\"currentColor\" stroke-width=\"0.1\"/>\n",
       "<rect x=\"200.00000000000003\" y=\"-100.0\" width=\"25.0\" height=\"25.0\" opacity=\"0.0\" fill=\"currentColor\" stroke-width=\"0.1\"/>\n",
       "<rect x=\"225.0\" y=\"-100.0\" width=\"25.0\" height=\"25.0\" opacity=\"0.0\" fill=\"currentColor\" stroke-width=\"0.1\"/>\n",
       "<rect x=\"0.0\" y=\"-125.0\" width=\"25.0\" height=\"25.0\" opacity=\"0.07692307692307693\" fill=\"currentColor\" stroke-width=\"0.1\"/>\n",
       "<rect x=\"24.999999999999986\" y=\"-125.0\" width=\"25.0\" height=\"25.0\" opacity=\"0.23076923076923062\" fill=\"currentColor\" stroke-width=\"0.1\"/>\n",
       "<rect x=\"49.999999999999986\" y=\"-125.0\" width=\"25.0\" height=\"25.0\" opacity=\"0.3846153846153841\" fill=\"currentColor\" stroke-width=\"0.1\"/>\n",
       "<rect x=\"75.00000000000001\" y=\"-125.0\" width=\"25.0\" height=\"25.0\" opacity=\"0.5384615384615381\" fill=\"currentColor\" stroke-width=\"0.1\"/>\n",
       "<rect x=\"100.00000000000001\" y=\"-125.0\" width=\"25.0\" height=\"25.0\" opacity=\"0.5384615384615385\" fill=\"currentColor\" stroke-width=\"0.1\"/>\n",
       "<rect x=\"125.0\" y=\"-125.0\" width=\"25.0\" height=\"25.0\" opacity=\"0.5384615384615385\" fill=\"currentColor\" stroke-width=\"0.1\"/>\n",
       "<rect x=\"150.0\" y=\"-125.0\" width=\"25.0\" height=\"25.0\" opacity=\"0.1538461538461538\" fill=\"currentColor\" stroke-width=\"0.1\"/>\n",
       "<rect x=\"174.99999999999997\" y=\"-125.0\" width=\"25.0\" height=\"25.0\" opacity=\"0.46153846153846056\" fill=\"currentColor\" stroke-width=\"0.1\"/>\n",
       "<rect x=\"200.00000000000003\" y=\"-125.0\" width=\"25.0\" height=\"25.0\" opacity=\"0.0\" fill=\"currentColor\" stroke-width=\"0.1\"/>\n",
       "<rect x=\"225.0\" y=\"-125.0\" width=\"25.0\" height=\"25.0\" opacity=\"0.07692307692307693\" fill=\"currentColor\" stroke-width=\"0.1\"/>\n",
       "<rect x=\"0.0\" y=\"-150.0\" width=\"25.0\" height=\"25.0\" opacity=\"0.0\" fill=\"currentColor\" stroke-width=\"0.1\"/>\n",
       "<rect x=\"24.999999999999986\" y=\"-150.0\" width=\"25.0\" height=\"25.0\" opacity=\"0.07692307692307686\" fill=\"currentColor\" stroke-width=\"0.1\"/>\n",
       "<rect x=\"49.999999999999986\" y=\"-150.0\" width=\"25.0\" height=\"25.0\" opacity=\"0.23076923076923042\" fill=\"currentColor\" stroke-width=\"0.1\"/>\n",
       "<rect x=\"75.00000000000001\" y=\"-150.0\" width=\"25.0\" height=\"25.0\" opacity=\"0.46153846153846123\" fill=\"currentColor\" stroke-width=\"0.1\"/>\n",
       "<rect x=\"100.00000000000001\" y=\"-150.0\" width=\"25.0\" height=\"25.0\" opacity=\"0.0\" fill=\"currentColor\" stroke-width=\"0.1\"/>\n",
       "<rect x=\"125.0\" y=\"-150.0\" width=\"25.0\" height=\"25.0\" opacity=\"1.0\" fill=\"currentColor\" stroke-width=\"0.1\"/>\n",
       "<rect x=\"150.0\" y=\"-150.0\" width=\"25.0\" height=\"25.0\" opacity=\"0.6153846153846152\" fill=\"currentColor\" stroke-width=\"0.1\"/>\n",
       "<rect x=\"174.99999999999997\" y=\"-150.0\" width=\"25.0\" height=\"25.0\" opacity=\"0.0\" fill=\"currentColor\" stroke-width=\"0.1\"/>\n",
       "<rect x=\"200.00000000000003\" y=\"-150.0\" width=\"25.0\" height=\"25.0\" opacity=\"0.0\" fill=\"currentColor\" stroke-width=\"0.1\"/>\n",
       "<rect x=\"225.0\" y=\"-150.0\" width=\"25.0\" height=\"25.0\" opacity=\"0.0\" fill=\"currentColor\" stroke-width=\"0.1\"/>\n",
       "<rect x=\"0.0\" y=\"-175.0\" width=\"25.0\" height=\"25.0\" opacity=\"0.0\" fill=\"currentColor\" stroke-width=\"0.1\"/>\n",
       "<rect x=\"24.999999999999986\" y=\"-175.0\" width=\"25.0\" height=\"25.0\" opacity=\"0.0\" fill=\"currentColor\" stroke-width=\"0.1\"/>\n",
       "<rect x=\"49.999999999999986\" y=\"-175.0\" width=\"25.0\" height=\"25.0\" opacity=\"0.15384615384615363\" fill=\"currentColor\" stroke-width=\"0.1\"/>\n",
       "<rect x=\"75.00000000000001\" y=\"-175.0\" width=\"25.0\" height=\"25.0\" opacity=\"0.07692307692307686\" fill=\"currentColor\" stroke-width=\"0.1\"/>\n",
       "<rect x=\"100.00000000000001\" y=\"-175.0\" width=\"25.0\" height=\"25.0\" opacity=\"0.23076923076923078\" fill=\"currentColor\" stroke-width=\"0.1\"/>\n",
       "<rect x=\"125.0\" y=\"-175.0\" width=\"25.0\" height=\"25.0\" opacity=\"0.23076923076923078\" fill=\"currentColor\" stroke-width=\"0.1\"/>\n",
       "<rect x=\"150.0\" y=\"-175.0\" width=\"25.0\" height=\"25.0\" opacity=\"0.0769230769230769\" fill=\"currentColor\" stroke-width=\"0.1\"/>\n",
       "<rect x=\"174.99999999999997\" y=\"-175.0\" width=\"25.0\" height=\"25.0\" opacity=\"0.0\" fill=\"currentColor\" stroke-width=\"0.1\"/>\n",
       "<rect x=\"200.00000000000003\" y=\"-175.0\" width=\"25.0\" height=\"25.0\" opacity=\"0.0\" fill=\"currentColor\" stroke-width=\"0.1\"/>\n",
       "<rect x=\"225.0\" y=\"-175.0\" width=\"25.0\" height=\"25.0\" opacity=\"0.0\" fill=\"currentColor\" stroke-width=\"0.1\"/>\n",
       "<rect x=\"0.0\" y=\"-200.0\" width=\"25.0\" height=\"25.0\" opacity=\"0.0\" fill=\"currentColor\" stroke-width=\"0.1\"/>\n",
       "<rect x=\"24.999999999999986\" y=\"-200.0\" width=\"25.0\" height=\"25.0\" opacity=\"0.0\" fill=\"currentColor\" stroke-width=\"0.1\"/>\n",
       "<rect x=\"49.999999999999986\" y=\"-200.0\" width=\"25.0\" height=\"25.0\" opacity=\"0.07692307692307682\" fill=\"currentColor\" stroke-width=\"0.1\"/>\n",
       "<rect x=\"75.00000000000001\" y=\"-200.0\" width=\"25.0\" height=\"25.0\" opacity=\"0.0\" fill=\"currentColor\" stroke-width=\"0.1\"/>\n",
       "<rect x=\"100.00000000000001\" y=\"-200.0\" width=\"25.0\" height=\"25.0\" opacity=\"0.0\" fill=\"currentColor\" stroke-width=\"0.1\"/>\n",
       "<rect x=\"125.0\" y=\"-200.0\" width=\"25.0\" height=\"25.0\" opacity=\"0.07692307692307693\" fill=\"currentColor\" stroke-width=\"0.1\"/>\n",
       "<rect x=\"150.0\" y=\"-200.0\" width=\"25.0\" height=\"25.0\" opacity=\"0.0\" fill=\"currentColor\" stroke-width=\"0.1\"/>\n",
       "<rect x=\"174.99999999999997\" y=\"-200.0\" width=\"25.0\" height=\"25.0\" opacity=\"0.0\" fill=\"currentColor\" stroke-width=\"0.1\"/>\n",
       "<rect x=\"200.00000000000003\" y=\"-200.0\" width=\"25.0\" height=\"25.0\" opacity=\"0.0\" fill=\"currentColor\" stroke-width=\"0.1\"/>\n",
       "<rect x=\"225.0\" y=\"-200.0\" width=\"25.0\" height=\"25.0\" opacity=\"0.0\" fill=\"currentColor\" stroke-width=\"0.1\"/>\n",
       "<rect x=\"0.0\" y=\"-225.0\" width=\"25.0\" height=\"25.0\" opacity=\"0.0\" fill=\"currentColor\" stroke-width=\"0.1\"/>\n",
       "<rect x=\"24.999999999999986\" y=\"-225.0\" width=\"25.0\" height=\"25.0\" opacity=\"0.0\" fill=\"currentColor\" stroke-width=\"0.1\"/>\n",
       "<rect x=\"49.999999999999986\" y=\"-225.0\" width=\"25.0\" height=\"25.0\" opacity=\"0.0\" fill=\"currentColor\" stroke-width=\"0.1\"/>\n",
       "<rect x=\"75.00000000000001\" y=\"-225.0\" width=\"25.0\" height=\"25.0\" opacity=\"0.0\" fill=\"currentColor\" stroke-width=\"0.1\"/>\n",
       "<rect x=\"100.00000000000001\" y=\"-225.0\" width=\"25.0\" height=\"25.0\" opacity=\"0.0\" fill=\"currentColor\" stroke-width=\"0.1\"/>\n",
       "<rect x=\"125.0\" y=\"-225.0\" width=\"25.0\" height=\"25.0\" opacity=\"0.0\" fill=\"currentColor\" stroke-width=\"0.1\"/>\n",
       "<rect x=\"150.0\" y=\"-225.0\" width=\"25.0\" height=\"25.0\" opacity=\"0.0\" fill=\"currentColor\" stroke-width=\"0.1\"/>\n",
       "<rect x=\"174.99999999999997\" y=\"-225.0\" width=\"25.0\" height=\"25.0\" opacity=\"0.0\" fill=\"currentColor\" stroke-width=\"0.1\"/>\n",
       "<rect x=\"200.00000000000003\" y=\"-225.0\" width=\"25.0\" height=\"25.0\" opacity=\"0.0\" fill=\"currentColor\" stroke-width=\"0.1\"/>\n",
       "<rect x=\"225.0\" y=\"-225.0\" width=\"25.0\" height=\"25.0\" opacity=\"0.0\" fill=\"currentColor\" stroke-width=\"0.1\"/>\n",
       "<rect x=\"0.0\" y=\"-250.0\" width=\"25.0\" height=\"25.0\" opacity=\"0.0\" fill=\"currentColor\" stroke-width=\"0.1\"/>\n",
       "<rect x=\"24.999999999999986\" y=\"-250.0\" width=\"25.0\" height=\"25.0\" opacity=\"0.0\" fill=\"currentColor\" stroke-width=\"0.1\"/>\n",
       "<rect x=\"49.999999999999986\" y=\"-250.0\" width=\"25.0\" height=\"25.0\" opacity=\"0.0\" fill=\"currentColor\" stroke-width=\"0.1\"/>\n",
       "<rect x=\"75.00000000000001\" y=\"-250.0\" width=\"25.0\" height=\"25.0\" opacity=\"0.0\" fill=\"currentColor\" stroke-width=\"0.1\"/>\n",
       "<rect x=\"100.00000000000001\" y=\"-250.0\" width=\"25.0\" height=\"25.0\" opacity=\"0.0\" fill=\"currentColor\" stroke-width=\"0.1\"/>\n",
       "<rect x=\"125.0\" y=\"-250.0\" width=\"25.0\" height=\"25.0\" opacity=\"0.0\" fill=\"currentColor\" stroke-width=\"0.1\"/>\n",
       "<rect x=\"150.0\" y=\"-250.0\" width=\"25.0\" height=\"25.0\" opacity=\"0.0\" fill=\"currentColor\" stroke-width=\"0.1\"/>\n",
       "<rect x=\"174.99999999999997\" y=\"-250.0\" width=\"25.0\" height=\"25.0\" opacity=\"0.0\" fill=\"currentColor\" stroke-width=\"0.1\"/>\n",
       "<rect x=\"200.00000000000003\" y=\"-250.0\" width=\"25.0\" height=\"25.0\" opacity=\"0.0\" fill=\"currentColor\" stroke-width=\"0.1\"/>\n",
       "<rect x=\"225.0\" y=\"-250.0\" width=\"25.0\" height=\"25.0\" opacity=\"0.0\" fill=\"currentColor\" stroke-width=\"0.1\"/>\n",
       "</svg>\n",
       "</div>\n",
       "<div style=\"flex=grow:1;\">\n",
       "Regular(10, -3, 3, underflow=False, overflow=False, name='X', label='x [unit]')<br/>\n",
       "Variable([-5, -4, -3, -2, -1, 0, 1, 2, 3, 4, 5], name='Y', label='y [unit]')<br/>\n",
       "<hr style=\"margin-top:.2em; margin-bottom:.2em;\"/>\n",
       "Double() Σ=100.0\n",
       "\n",
       "</div>\n",
       "</div>\n",
       "</html>"
      ],
      "text/plain": [
       "NamedHist(\n",
       "  Regular(10, -3, 3, underflow=False, overflow=False, name='X', label='x [unit]'),\n",
       "  Variable([-5, -4, -3, -2, -1, 0, 1, 2, 3, 4, 5], name='Y', label='y [unit]'),\n",
       "  storage=Double()) # Sum: 100.0"
      ]
     },
     "execution_count": 5,
     "metadata": {},
     "output_type": "execute_result"
    }
   ],
   "source": [
    "named_hist_2d"
   ]
  },
  {
   "cell_type": "code",
   "execution_count": 6,
   "id": "31945286-189b-41df-a3cd-09c87fc4f79f",
   "metadata": {},
   "outputs": [
    {
     "data": {
      "text/html": [
       "<html>\n",
       "<div style=\"display:flex; align-items:center;\">\n",
       "<div style=\"width:290px;\">\n",
       "<svg xmlns=\"http://www.w3.org/2000/svg\" viewBox=\"-10 -10 220 220\">\n",
       "<rect x=\"0\" y=\"0\" width=\"160\" height=\"160\" style=\"fill:white;opacity:.5;stroke-width:2;stroke:currentColor;\"/>\n",
       "<rect x=\"20\" y=\"20\" width=\"160\" height=\"160\" style=\"fill:white;opacity:.5;stroke-width:2;stroke:currentColor;\"/>\n",
       "<rect x=\"40\" y=\"40\" width=\"160\" height=\"160\" style=\"fill:white;opacity:.5;stroke-width:2;stroke:currentColor;\"/>\n",
       "<text x=\"120.0\" y=\"120.0\" style=\"font-size: 26pt; font-family: verdana; font-style: bold; fill: black;\" text-anchor=\"middle\" alignment-baseline=\"middle\">\n",
       "3D\n",
       "</text>\n",
       "</svg>\n",
       "</div>\n",
       "<div style=\"flex=grow:1;\">\n",
       "Regular(10, -3, 3, underflow=False, overflow=False, name='X', label='x [unit]')<br/>\n",
       "Variable([-5, -4, -3, -2, -1, 0, 1, 2, 3, 4, 5], name='Y', label='y [unit]')<br/>\n",
       "Integer(-3, 3, name='Z', label='z [units]')<br/>\n",
       "<hr style=\"margin-top:.2em; margin-bottom:.2em;\"/>\n",
       "Double() Σ=100.0\n",
       "\n",
       "</div>\n",
       "</div>\n",
       "</html>"
      ],
      "text/plain": [
       "NamedHist(\n",
       "  Regular(10, -3, 3, underflow=False, overflow=False, name='X', label='x [unit]'),\n",
       "  Variable([-5, -4, -3, -2, -1, 0, 1, 2, 3, 4, 5], name='Y', label='y [unit]'),\n",
       "  Integer(-3, 3, name='Z', label='z [units]'),\n",
       "  storage=Double()) # Sum: 100.0"
      ]
     },
     "execution_count": 6,
     "metadata": {},
     "output_type": "execute_result"
    }
   ],
   "source": [
    "named_hist"
   ]
  },
  {
   "cell_type": "markdown",
   "id": "f5809b61-0b65-4001-a4f3-a29ac236a818",
   "metadata": {},
   "source": [
    "Besides the fancy repr, the users can explictly see the data by `.plot()` (using mplhep in the backend) and `.show()` (using histoprint)."
   ]
  },
  {
   "cell_type": "markdown",
   "id": "1f7b5cf8-cf13-45f8-b04d-3465d656c259",
   "metadata": {},
   "source": [
    "### UHI\n",
    "\n",
    "Uniform Histogram Indexing (UHI) is one of the most important features of hist, which provides HEP users with handy accessing shortcuts. For example, to access the centroid element of a 2d-histogram, we can:"
   ]
  },
  {
   "cell_type": "code",
   "execution_count": 7,
   "id": "34d8e03f-36d6-4b20-b030-5f6a13add97d",
   "metadata": {},
   "outputs": [
    {
     "name": "stdout",
     "output_type": "stream",
     "text": [
      "15.0\n",
      "15.0\n",
      "15.0\n",
      "15.0\n",
      "15.0\n"
     ]
    }
   ],
   "source": [
    "print(unnamed_hist_2d[5, 5])\n",
    "print(unnamed_hist_2d[{0: 5, 1: 5}])\n",
    "print(unnamed_hist_2d[{\"X\": 5, \"Y\": 5}])\n",
    "print(unnamed_hist_2d[{\"X\": bh.loc(0), \"Y\": bh.loc(0)}])\n",
    "print(unnamed_hist_2d[-1+.8j, 1-.5j])"
   ]
  },
  {
   "cell_type": "markdown",
   "id": "dbb320b7-3865-44f1-a93f-39e1c89a9305",
   "metadata": {},
   "source": [
    "UHI also supports rebin for histograms."
   ]
  },
  {
   "cell_type": "code",
   "execution_count": 8,
   "id": "6d5fe552-1ca5-4bd4-b394-ba74192750d5",
   "metadata": {},
   "outputs": [
    {
     "data": {
      "text/html": [
       "<html>\n",
       "<div style=\"display:flex; align-items:center;\">\n",
       "<div style=\"width:290px;\">\n",
       "<svg xmlns=\"http://www.w3.org/2000/svg\" viewBox=\"-10 -105 270 120\">\n",
       "<line x1=\"-5\" y1=\"0\" x2=\"255\" y2=\"0\" style=\"fill:none;stroke-width:2;stroke:currentColor\"/>\n",
       "<text text-anchor=\"middle\" x=\"0\" y=\"15\" style=\"fill:currentColor;\">\n",
       "-3\n",
       "</text>\n",
       "<text text-anchor=\"middle\" x=\"250\" y=\"15\" style=\"fill:currentColor;\">\n",
       "3\n",
       "</text>\n",
       "<text text-anchor=\"middle\" x=\"125.0\" y=\"15\" style=\"fill:currentColor;\">\n",
       "x [unit]\n",
       "</text>\n",
       "<polyline points=\"  0,0   0,-0  25,-0  25,-7.69  50,-7.69  50,-23.1  75,-23.1  75,-46.2 100,-46.2 100,-0 125,-0 125,-100 150,-100 150,-61.5 175,-61.5 175,-0 200,-0 200,-0 225,-0 225,-0 250,-0 250,0\" style=\"fill:none; stroke:currentColor;\"/>\n",
       "</svg>\n",
       "</div>\n",
       "<div style=\"flex=grow:1;\">\n",
       "Regular(10, -3, 3, underflow=False, overflow=False, name='X', label='x [unit]')<br/>\n",
       "<hr style=\"margin-top:.2em; margin-bottom:.2em;\"/>\n",
       "Double() Σ=31.0\n",
       "\n",
       "</div>\n",
       "</div>\n",
       "</html>"
      ],
      "text/plain": [
       "NamedHist(Regular(10, -3, 3, underflow=False, overflow=False, name='X', label='x [unit]'), storage=Double()) # Sum: 31.0"
      ]
     },
     "execution_count": 8,
     "metadata": {},
     "output_type": "execute_result"
    }
   ],
   "source": [
    "named_hist_2d[:, 1-.5j]"
   ]
  },
  {
   "cell_type": "code",
   "execution_count": 9,
   "id": "10f20344-6e0d-4386-a534-d8515b86f3cc",
   "metadata": {},
   "outputs": [
    {
     "data": {
      "text/html": [
       "<html>\n",
       "<div style=\"display:flex; align-items:center;\">\n",
       "<div style=\"width:290px;\">\n",
       "<svg xmlns=\"http://www.w3.org/2000/svg\" viewBox=\"-10 -105 270 120\">\n",
       "<line x1=\"-5\" y1=\"0\" x2=\"255\" y2=\"0\" style=\"fill:none;stroke-width:2;stroke:currentColor\"/>\n",
       "<text text-anchor=\"middle\" x=\"0\" y=\"15\" style=\"fill:currentColor;\">\n",
       "-3\n",
       "</text>\n",
       "<text text-anchor=\"middle\" x=\"250\" y=\"15\" style=\"fill:currentColor;\">\n",
       "3\n",
       "</text>\n",
       "<text text-anchor=\"middle\" x=\"125.0\" y=\"15\" style=\"fill:currentColor;\">\n",
       "x [unit]\n",
       "</text>\n",
       "<polyline points=\"  0,0   0,-7.69  50,-7.69  50,-69.2 100,-69.2 100,-100 150,-100 150,-61.5 200,-61.5 200,-0 250,-0 250,0\" style=\"fill:none; stroke:currentColor;\"/>\n",
       "</svg>\n",
       "</div>\n",
       "<div style=\"flex=grow:1;\">\n",
       "Regular(5, -3, 3, underflow=False, overflow=False, name='X', label='x [unit]')<br/>\n",
       "<hr style=\"margin-top:.2em; margin-bottom:.2em;\"/>\n",
       "Double() Σ=31.0\n",
       "\n",
       "</div>\n",
       "</div>\n",
       "</html>"
      ],
      "text/plain": [
       "NamedHist(Regular(5, -3, 3, underflow=False, overflow=False, name='X', label='x [unit]'), storage=Double()) # Sum: 31.0"
      ]
     },
     "execution_count": 9,
     "metadata": {},
     "output_type": "execute_result"
    }
   ],
   "source": [
    "named_hist_2d[0:10:2j, 1-.5j]"
   ]
  },
  {
   "cell_type": "markdown",
   "id": "681964f1-f9bf-47e2-a5a6-da2224ef74bd",
   "metadata": {},
   "source": [
    "### Quick Construct"
   ]
  },
  {
   "cell_type": "code",
   "execution_count": null,
   "id": "d058f10c-49fe-4418-bca1-70e97ee06c51",
   "metadata": {},
   "outputs": [],
   "source": []
  },
  {
   "cell_type": "code",
   "execution_count": null,
   "id": "c1c1116c-b104-42d0-acb0-bd885089fc14",
   "metadata": {},
   "outputs": [],
   "source": []
  }
 ],
 "metadata": {
  "kernelspec": {
   "display_name": "hist",
   "language": "python",
   "name": "hist"
  },
  "language_info": {
   "codemirror_mode": {
    "name": "ipython",
    "version": 3
   },
   "file_extension": ".py",
   "mimetype": "text/x-python",
   "name": "python",
   "nbconvert_exporter": "python",
   "pygments_lexer": "ipython3",
   "version": "3.9.4"
  }
 },
 "nbformat": 4,
 "nbformat_minor": 5
}
