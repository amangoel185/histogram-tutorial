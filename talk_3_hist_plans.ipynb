{
 "cells": [
  {
   "cell_type": "markdown",
   "id": "81ea8252-0477-4e94-8d8a-e399b46c53cb",
   "metadata": {},
   "source": [
    "# Part 3: Hist current work and plans"
   ]
  },
  {
   "cell_type": "markdown",
   "id": "c920de80-3c26-4494-b3e3-f1d92f07147b",
   "metadata": {},
   "source": [
    "## TODO: Talk a bit about plans, maybe a slide per planned feature for 3-4 features?"
   ]
  },
  {
   "cell_type": "markdown",
   "id": "3caaed1c-292c-430d-9add-4920f03bafff",
   "metadata": {},
   "source": [
    "Run the code with us through Binder, altering examples and asking \"what if\" questions along the way :)\n",
    "\n",
    "[![Binder](https://mybinder.org/badge_logo.svg)](https://mybinder.org/v2/gh/henryiii/histogram-tutorial/master?filepath=talk_3_hist_plans.ipynb)"
   ]
  },
  {
   "cell_type": "markdown",
   "id": "b71fd740-68ab-4342-af3e-436fd344e519",
   "metadata": {},
   "source": [
    "- Stacked Histograms\n",
    "- Interpolator\n",
    "- plotgrid feature from Coffea\n",
    "- Fill from Awkward Arrays\n",
    "- Minor Features\n",
    "    - Improved Reprs\n",
    "    - Integrationn with fitters\n"
   ]
  }
 ],
 "metadata": {
  "kernelspec": {
   "display_name": "hist",
   "language": "python",
   "name": "hist"
  },
  "language_info": {
   "codemirror_mode": {
    "name": "ipython",
    "version": 3
   },
   "file_extension": ".py",
   "mimetype": "text/x-python",
   "name": "python",
   "nbconvert_exporter": "python",
   "pygments_lexer": "ipython3",
   "version": "3.6.13"
  }
 },
 "nbformat": 4,
 "nbformat_minor": 5
}
