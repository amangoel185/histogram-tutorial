{
 "cells": [
  {
   "cell_type": "markdown",
   "id": "fb258061-afdc-4812-8d19-2ed766dfc987",
   "metadata": {
    "tags": []
   },
   "source": [
    "# PyHEP WG topical meeting - boost-histogram / Hist\n",
    "\n",
    "### Henry Schreiner (Princeton University) and Aman Goel (University of Delhi)\n",
    "\n",
    "**March 2nd, 2022**"
   ]
  },
  {
   "cell_type": "code",
   "execution_count": null,
   "id": "d5ecf75f-b1d6-4eab-998f-e25490ec73fc",
   "metadata": {},
   "outputs": [],
   "source": [
    "import hist\n",
    "from hist import Hist"
   ]
  },
  {
   "cell_type": "markdown",
   "id": "3c8559e4-e0a1-4a8e-b2e9-eb84c491330f",
   "metadata": {},
   "source": [
    "Run the code with us through Binder, altering examples and asking \"what if\" questions along the way :)\n",
    "\n",
    "[![Binder](https://mybinder.org/badge_logo.svg)](https://mybinder.org/v2/gh/henryiii/histogram-tutorial/master?filepath=)"
   ]
  },
  {
   "cell_type": "code",
   "execution_count": null,
   "id": "4240968f-43c3-4256-96df-a3992225c1e2",
   "metadata": {},
   "outputs": [],
   "source": [
    "## outline (to be removed)\n",
    "\n",
    "# defining a histogram and different ways\n",
    "# manipulation of the histogram\n",
    "# features and examples"
   ]
  },
  {
   "cell_type": "code",
   "execution_count": null,
   "id": "ce94c89a-d0cd-4f45-9b8b-b2ef3b23962a",
   "metadata": {},
   "outputs": [],
   "source": [
    "import numpy as np"
   ]
  },
  {
   "cell_type": "markdown",
   "id": "13408416-7d9b-492b-8611-ed0c1ddf7d49",
   "metadata": {},
   "source": [
    "Let's prepare a default random number generator (numpy 1.17+)"
   ]
  },
  {
   "cell_type": "code",
   "execution_count": null,
   "id": "4ae2a109-27e6-4058-a9d1-1a382046fbff",
   "metadata": {},
   "outputs": [],
   "source": [
    "rng = np.random.default_rng()"
   ]
  },
  {
   "cell_type": "markdown",
   "id": "7526a7c8-1d71-42c5-8d19-c1862bdeabde",
   "metadata": {},
   "source": [
    "And let's make something interesting to histogram:"
   ]
  },
  {
   "cell_type": "code",
   "execution_count": null,
   "id": "95ac5865-fa1e-42a2-9ddf-176c886eb68e",
   "metadata": {},
   "outputs": [],
   "source": [
    "data = np.hstack(\n",
    "    [\n",
    "        rng.normal(0, 2, size=40_000),\n",
    "        rng.normal(3, 0.3, size=5_000),\n",
    "        rng.normal(-3, 0.3, size=5_000),\n",
    "    ]\n",
    ")"
   ]
  },
  {
   "cell_type": "markdown",
   "id": "73795eb0-fe50-4da4-b130-f55b66db9efe",
   "metadata": {},
   "source": [
    "Now, let's make a histogram:"
   ]
  },
  {
   "cell_type": "code",
   "execution_count": null,
   "id": "e60edd45-81c1-453b-ad00-faf419d020c5",
   "metadata": {},
   "outputs": [],
   "source": [
    "h = Hist.new.Reg(100, -10, 10).Int64().fill(data)\n",
    "h"
   ]
  },
  {
   "cell_type": "code",
   "execution_count": null,
   "id": "f93e2437-9812-4e3f-91a9-4fa0cd794eb7",
   "metadata": {},
   "outputs": [],
   "source": [
    "h.plot();"
   ]
  },
  {
   "cell_type": "code",
   "execution_count": null,
   "id": "8fca6bb2-35a9-469d-8614-7ed5a69606ec",
   "metadata": {},
   "outputs": [],
   "source": [
    "h[-4j:4j].plot();"
   ]
  },
  {
   "cell_type": "code",
   "execution_count": null,
   "id": "cb8f9f1f-9040-4243-8461-ca7f46667b48",
   "metadata": {},
   "outputs": [],
   "source": [
    "# NumPy API\n",
    "# hist.numpy.histogram(data, bins=100, histogram=Hist)"
   ]
  },
  {
   "cell_type": "markdown",
   "id": "4453f852-c674-48df-96c4-eabde73e543b",
   "metadata": {},
   "source": [
    "## What is a Hist object made up of?"
   ]
  },
  {
   "cell_type": "markdown",
   "id": "d863d2fc-3b85-4cb6-8f6b-62c7d5d48003",
   "metadata": {},
   "source": [
    "- Axis objects\n",
    "- Storage"
   ]
  },
  {
   "cell_type": "markdown",
   "id": "7ec3d2d2-a411-4cea-bcff-763d79db4909",
   "metadata": {
    "tags": []
   },
   "source": [
    "## Defining a histogram with Hist\n",
    "Let's first import Hist and quickly define a histogram!"
   ]
  },
  {
   "cell_type": "markdown",
   "id": "b4abd7f9-31f2-4798-b848-f3381c0677c6",
   "metadata": {
    "tags": []
   },
   "source": [
    "### Classic definition"
   ]
  },
  {
   "cell_type": "code",
   "execution_count": null,
   "id": "8b81f6a9-d60c-416c-9a16-f9df1a6040ff",
   "metadata": {},
   "outputs": [],
   "source": [
    "h = Hist(\n",
    "    hist.axis.Regular(10, 0, 1, name=\"x\"),\n",
    "    hist.axis.Regular(10, 0, 1, name=\"y\"),\n",
    "    storage=hist.storage.Weight(),\n",
    ")\n",
    "print(h)"
   ]
  },
  {
   "cell_type": "markdown",
   "id": "11e16731-16d0-453f-bee6-7b139296235a",
   "metadata": {},
   "source": [
    "### QuickConstruct"
   ]
  },
  {
   "cell_type": "code",
   "execution_count": null,
   "id": "90636074-e950-4d41-8a39-c4219e66f202",
   "metadata": {},
   "outputs": [],
   "source": [
    "h = Hist.new.Reg(10, 0, 1, name=\"x\").Reg(10, 0, 1, name=\"y\").Weight()\n",
    "print(h)"
   ]
  },
  {
   "cell_type": "code",
   "execution_count": null,
   "id": "5d12ae1e-f9f7-4152-b915-2d74d39b093b",
   "metadata": {},
   "outputs": [],
   "source": [
    "## definitions\n",
    "\n",
    "# regular and quick-construct\n",
    "# fill"
   ]
  },
  {
   "cell_type": "markdown",
   "id": "db2d25ae-433a-4e60-bea4-42fe4a94e5f9",
   "metadata": {},
   "source": [
    "## Playing with the Hist Object"
   ]
  },
  {
   "cell_type": "code",
   "execution_count": null,
   "id": "78c32bec-5c47-44f1-b71f-23073beb80be",
   "metadata": {},
   "outputs": [],
   "source": [
    "# slicing & rebinning\n",
    "# accessing various properties\n",
    "# setting content"
   ]
  },
  {
   "cell_type": "markdown",
   "id": "5b49548b-2242-4282-95e0-95cb9f532e8a",
   "metadata": {},
   "source": [
    "## Diving into the Axes"
   ]
  },
  {
   "cell_type": "code",
   "execution_count": null,
   "id": "bb3011d1-12e3-4e6d-aed3-88c440b2dab6",
   "metadata": {},
   "outputs": [],
   "source": [
    "# types and manipulation\n",
    "# include transform here"
   ]
  },
  {
   "cell_type": "markdown",
   "id": "d6c2f446-51d2-4c30-9c28-a7f59533ea1b",
   "metadata": {},
   "source": [
    "## Quick Overview of Storages"
   ]
  },
  {
   "cell_type": "code",
   "execution_count": null,
   "id": "8ea89c7e-fb5a-4149-aa14-3e2994631992",
   "metadata": {},
   "outputs": [],
   "source": [
    "# skip Accumulators?"
   ]
  },
  {
   "cell_type": "markdown",
   "id": "d5334eb0-3611-45df-8622-54c625ddf538",
   "metadata": {},
   "source": [
    "## Repr Examples"
   ]
  },
  {
   "cell_type": "code",
   "execution_count": null,
   "id": "d2c3160f-9a8f-4932-aecd-e1ed5707b065",
   "metadata": {},
   "outputs": [],
   "source": [
    "# show quick examples of previous objects as Reprs or combine this section above"
   ]
  },
  {
   "cell_type": "markdown",
   "id": "910bcdcb-01db-4eb2-994c-d24481f5b573",
   "metadata": {},
   "source": [
    "## Plots and Histoprint"
   ]
  },
  {
   "cell_type": "code",
   "execution_count": null,
   "id": "8daca9af-0901-4cc7-970d-4075c1249803",
   "metadata": {},
   "outputs": [],
   "source": [
    "# show various plots, maybe go through different levels to build one example"
   ]
  },
  {
   "cell_type": "markdown",
   "id": "f7cbffde-ee7d-4296-91eb-6e6f8b03928a",
   "metadata": {},
   "source": [
    "## Stacks"
   ]
  },
  {
   "cell_type": "code",
   "execution_count": null,
   "id": "2c0e766c-58c5-4192-b0c8-48d9e35ba1b4",
   "metadata": {},
   "outputs": [],
   "source": [
    "# look for an interesting example?"
   ]
  }
 ],
 "metadata": {
  "kernelspec": {
   "display_name": "Python [conda env:histogram-tutorial] *",
   "language": "python",
   "name": "conda-env-histogram-tutorial-py"
  },
  "language_info": {
   "codemirror_mode": {
    "name": "ipython",
    "version": 3
   },
   "file_extension": ".py",
   "mimetype": "text/x-python",
   "name": "python",
   "nbconvert_exporter": "python",
   "pygments_lexer": "ipython3",
   "version": "3.9.6"
  },
  "toc-autonumbering": false,
  "toc-showcode": false,
  "toc-showmarkdowntxt": false,
  "toc-showtags": false
 },
 "nbformat": 4,
 "nbformat_minor": 5
}
