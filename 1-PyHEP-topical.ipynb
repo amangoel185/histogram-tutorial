{
 "cells": [
  {
   "cell_type": "markdown",
   "id": "fb258061-afdc-4812-8d19-2ed766dfc987",
   "metadata": {
    "tags": []
   },
   "source": [
    "# PyHEP WG topical meeting - boost-histogram / Hist\n",
    "\n",
    "### Henry Schreiner (Princeton University) and Aman Goel (University of Delhi)\n",
    "\n",
    "**March 2nd, 2022**"
   ]
  },
  {
   "cell_type": "code",
   "execution_count": null,
   "id": "d5ecf75f-b1d6-4eab-998f-e25490ec73fc",
   "metadata": {},
   "outputs": [],
   "source": [
    "import hist\n",
    "from hist import Hist"
   ]
  },
  {
   "cell_type": "markdown",
   "id": "3c8559e4-e0a1-4a8e-b2e9-eb84c491330f",
   "metadata": {},
   "source": [
    "Run the code with us through Binder, altering examples and asking \"what if\" questions along the way :)\n",
    "\n",
    "[![Binder](https://mybinder.org/badge_logo.svg)](https://mybinder.org/v2/gh/henryiii/histogram-tutorial/main?urlpath=lab/tree/1-PyHEP-topical.ipynb)"
   ]
  },
  {
   "cell_type": "code",
   "execution_count": null,
   "id": "ce94c89a-d0cd-4f45-9b8b-b2ef3b23962a",
   "metadata": {},
   "outputs": [],
   "source": [
    "import numpy as np"
   ]
  },
  {
   "cell_type": "markdown",
   "id": "13408416-7d9b-492b-8611-ed0c1ddf7d49",
   "metadata": {},
   "source": [
    "Let's prepare a default random number generator (numpy 1.17+)"
   ]
  },
  {
   "cell_type": "code",
   "execution_count": null,
   "id": "4ae2a109-27e6-4058-a9d1-1a382046fbff",
   "metadata": {},
   "outputs": [],
   "source": [
    "rng = np.random.default_rng()"
   ]
  },
  {
   "cell_type": "markdown",
   "id": "7526a7c8-1d71-42c5-8d19-c1862bdeabde",
   "metadata": {},
   "source": [
    "And let's make something interesting to histogram:"
   ]
  },
  {
   "cell_type": "code",
   "execution_count": null,
   "id": "95ac5865-fa1e-42a2-9ddf-176c886eb68e",
   "metadata": {},
   "outputs": [],
   "source": [
    "data = np.hstack(\n",
    "    [\n",
    "        rng.normal(0, 2, size=40_000),\n",
    "        rng.normal(3, 0.3, size=5_000),\n",
    "        rng.normal(-3, 0.3, size=5_000),\n",
    "    ]\n",
    ")"
   ]
  },
  {
   "cell_type": "markdown",
   "id": "73795eb0-fe50-4da4-b130-f55b66db9efe",
   "metadata": {},
   "source": [
    "Now, let's make a histogram:"
   ]
  },
  {
   "cell_type": "code",
   "execution_count": null,
   "id": "e60edd45-81c1-453b-ad00-faf419d020c5",
   "metadata": {},
   "outputs": [],
   "source": [
    "h = Hist.new.Reg(100, -10, 10).Int64().fill(data)\n",
    "h"
   ]
  },
  {
   "cell_type": "code",
   "execution_count": null,
   "id": "f93e2437-9812-4e3f-91a9-4fa0cd794eb7",
   "metadata": {},
   "outputs": [],
   "source": [
    "h.plot();"
   ]
  },
  {
   "cell_type": "code",
   "execution_count": null,
   "id": "8fca6bb2-35a9-469d-8614-7ed5a69606ec",
   "metadata": {},
   "outputs": [],
   "source": [
    "h[-4j:4j].plot();"
   ]
  },
  {
   "cell_type": "code",
   "execution_count": null,
   "id": "cb8f9f1f-9040-4243-8461-ca7f46667b48",
   "metadata": {},
   "outputs": [],
   "source": [
    "# NumPy API\n",
    "# hist.numpy.histogram(data, bins=100, histogram=Hist)"
   ]
  },
  {
   "cell_type": "markdown",
   "id": "4453f852-c674-48df-96c4-eabde73e543b",
   "metadata": {},
   "source": [
    "## What is a Hist object made up of?"
   ]
  },
  {
   "cell_type": "markdown",
   "id": "d863d2fc-3b85-4cb6-8f6b-62c7d5d48003",
   "metadata": {},
   "source": [
    "- Axis objects\n",
    "- Storage"
   ]
  },
  {
   "cell_type": "markdown",
   "id": "7ec3d2d2-a411-4cea-bcff-763d79db4909",
   "metadata": {
    "tags": []
   },
   "source": [
    "## Defining a histogram with Hist\n",
    "Let's first import Hist and quickly define a histogram!"
   ]
  },
  {
   "cell_type": "markdown",
   "id": "b4abd7f9-31f2-4798-b848-f3381c0677c6",
   "metadata": {
    "tags": []
   },
   "source": [
    "### Classic definition"
   ]
  },
  {
   "cell_type": "code",
   "execution_count": null,
   "id": "8b81f6a9-d60c-416c-9a16-f9df1a6040ff",
   "metadata": {},
   "outputs": [],
   "source": [
    "h = Hist(\n",
    "    hist.axis.Regular(50, -5, 5, name=\"S\", label=\"s [units]\", flow=False),\n",
    "    hist.axis.Regular(50, -5, 5, name=\"W\", label=\"w [units]\", flow=False),\n",
    "    storage=hist.storage.Weight(),\n",
    ")\n",
    "print(h)"
   ]
  },
  {
   "cell_type": "markdown",
   "id": "11e16731-16d0-453f-bee6-7b139296235a",
   "metadata": {},
   "source": [
    "### QuickConstruct"
   ]
  },
  {
   "cell_type": "code",
   "execution_count": null,
   "id": "90636074-e950-4d41-8a39-c4219e66f202",
   "metadata": {},
   "outputs": [],
   "source": [
    "h = (\n",
    "    Hist.new.Reg(50, -5, 5, name=\"s\", label=\"s [units]\", flow=False)\n",
    "    .Reg(50, -5, 5, name=\"w\", label=\"w [units]\", flow=False)\n",
    "    .Weight()\n",
    ")\n",
    "print(h)"
   ]
  },
  {
   "cell_type": "markdown",
   "id": "894671cf-ffaf-4c1a-a0b7-b74932091852",
   "metadata": {},
   "source": [
    "## Filling\n",
    "\n"
   ]
  },
  {
   "cell_type": "code",
   "execution_count": null,
   "id": "daabe437-aa96-4552-8968-bbfce4de1675",
   "metadata": {},
   "outputs": [],
   "source": [
    "s_data = rng.standard_normal(50_000)\n",
    "w_data = rng.standard_normal(50_000)\n",
    "\n",
    "h.fill(s=s_data, w=w_data, threads=4)"
   ]
  },
  {
   "cell_type": "code",
   "execution_count": null,
   "id": "fab2a7ca-5c81-400c-9b2a-5f02fe6ad41e",
   "metadata": {},
   "outputs": [],
   "source": [
    "h.plot2d_full();"
   ]
  },
  {
   "cell_type": "code",
   "execution_count": null,
   "id": "da552522-ab54-407a-8085-8150a5582b64",
   "metadata": {},
   "outputs": [],
   "source": [
    "from uncertainties import unumpy as unp\n",
    "\n",
    "\n",
    "def pdf(x, a=1 / np.sqrt(2 * np.pi), x0=0, sigma=1, offset=0):\n",
    "    exp = unp.exp if a.dtype == np.dtype(\"O\") else np.exp\n",
    "    return a * exp(-((x - x0) ** 2) / (2 * sigma**2)) + offset"
   ]
  },
  {
   "cell_type": "code",
   "execution_count": null,
   "id": "72d61cf8-34c7-4e18-a85a-b3f27b7a645d",
   "metadata": {},
   "outputs": [],
   "source": [
    "h.project(\"s\").plot_pull(pdf);"
   ]
  },
  {
   "cell_type": "markdown",
   "id": "db2d25ae-433a-4e60-bea4-42fe4a94e5f9",
   "metadata": {},
   "source": [
    "## Playing with the Hist Object: computing manylinux compatibility\n",
    "\n",
    "Jan 2022"
   ]
  },
  {
   "cell_type": "code",
   "execution_count": null,
   "id": "d079c515-7b26-4788-8a7f-689adfdfd43f",
   "metadata": {},
   "outputs": [],
   "source": [
    "import pandas as pd\n",
    "import matplotlib.pyplot as plt"
   ]
  },
  {
   "cell_type": "code",
   "execution_count": null,
   "id": "a5a96dae-1e41-422d-b31a-d190fe9578ca",
   "metadata": {},
   "outputs": [],
   "source": [
    "def read_data(date):\n",
    "    df = pd.read_csv(\n",
    "        f\"https://raw.githubusercontent.com/mayeut/manylinux-timeline/main/consumer_data/{date}.csv\",\n",
    "        converters={\n",
    "            \"python_version\": str,\n",
    "            \"pip_version\": lambda x: float(\".\".join(x.split(\"b\")[0].split(\".\")[:2]))\n",
    "            % 2000,\n",
    "            \"glibc_version\": lambda x: int(x.split(\"-\")[0].split(\".\")[1]),\n",
    "        },\n",
    "    )\n",
    "\n",
    "    manylinux_pip = pd.cut(\n",
    "        df.pip_version,\n",
    "        [8.1, 19.0, 19.3, 20.3, np.inf],\n",
    "        right=False,\n",
    "        labels=[\"manylinux1\", \"manylinux2010\", \"manylinux2014\", \"manylinux_2_24\"],\n",
    "    )\n",
    "    manylinux_glibc = pd.cut(\n",
    "        df.glibc_version,\n",
    "        [5, 12, 17, 24, np.inf],\n",
    "        right=False,\n",
    "        labels=[\"manylinux1\", \"manylinux2010\", \"manylinux2014\", \"manylinux_2_24\"],\n",
    "    )\n",
    "    codes = pd.concat([manylinux_pip.cat.codes, manylinux_glibc.cat.codes], axis=1).min(\n",
    "        axis=1\n",
    "    )\n",
    "    policy = pd.Categorical.from_codes(codes, dtype=manylinux_pip.dtype)\n",
    "    df[\"policy\"] = policy\n",
    "    df[\"pip_version\"] = df[\"pip_version\"].astype(int)\n",
    "    return df"
   ]
  },
  {
   "cell_type": "code",
   "execution_count": null,
   "id": "36eeb4ec-ffd9-42fb-8406-63f49e21c95a",
   "metadata": {},
   "outputs": [],
   "source": [
    "data = (\n",
    "    pd.concat([read_data(f\"2022/01/{d:02}\") for d in range(1, 32)], axis=0)\n",
    "    .reset_index()\n",
    "    .dropna()\n",
    ")\n",
    "data"
   ]
  },
  {
   "cell_type": "code",
   "execution_count": null,
   "id": "b3ec78bd-c51b-4fab-a566-1114bac2bd08",
   "metadata": {},
   "outputs": [],
   "source": [
    "h = Hist.from_columns(\n",
    "    data,\n",
    "    (\"cpu\", \"python_version\", \"pip_version\", \"policy\"),\n",
    "    weight=\"num_downloads\",\n",
    ")\n",
    "print(h)"
   ]
  },
  {
   "cell_type": "code",
   "execution_count": null,
   "id": "34ee4d66-9ffd-4a09-bb18-446343102b7e",
   "metadata": {},
   "outputs": [],
   "source": [
    "fig, axs = plt.subplots(2, 3, figsize=(12, 8))\n",
    "for i, py in enumerate([\"2.7\", \"3.6\", \"3.7\", \"3.8\", \"3.9\", \"3.10\"]):\n",
    "    ax = axs.flatten()[i]\n",
    "    ph = h.project(\"python_version\", \"pip_version\")[py, :]\n",
    "    ph.plot_pie(ax=ax, normalize=True, autopct=\"%1.0f%%\", pctdistance=0.8)\n",
    "    ax.set_title(f\"Python {py} {int(ph.sum()) // 1_000_000:,} M\")\n",
    "\n",
    "plt.tight_layout()\n",
    "plt.show()"
   ]
  },
  {
   "cell_type": "code",
   "execution_count": null,
   "id": "ddee8ad7-64e5-477c-aee7-cf46c1e3144b",
   "metadata": {},
   "outputs": [],
   "source": [
    "fig, axs = plt.subplots(2, 3, figsize=(12, 8))\n",
    "for i, py in enumerate([\"2.7\", \"3.6\", \"3.7\", \"3.8\", \"3.9\", \"3.10\"]):\n",
    "    ax = axs.flatten()[i]\n",
    "    ph = h.project(\"python_version\", \"policy\")[py, :]\n",
    "    ph.plot_pie(ax=ax, normalize=True, autopct=\"%1.0f%%\", pctdistance=0.8)\n",
    "    ax.set_title(f\"Python {py} {int(ph.sum()) // 1_000_000:,} M\")\n",
    "\n",
    "plt.show()"
   ]
  },
  {
   "cell_type": "markdown",
   "id": "acfdb04e-d91c-4e20-8a09-cbf5d222286c",
   "metadata": {},
   "source": [
    "## Playing with an image-like histogram"
   ]
  },
  {
   "cell_type": "code",
   "execution_count": null,
   "id": "189575e0-085e-4948-990d-a6480547efb8",
   "metadata": {},
   "outputs": [],
   "source": [
    "import PIL.Image\n",
    "import PIL.ImageDraw\n",
    "import PIL.ImageFilter\n",
    "import PIL.ImageFont\n",
    "import matplotlib.pyplot as plt"
   ]
  },
  {
   "cell_type": "code",
   "execution_count": null,
   "id": "9f18d453-b863-4b91-967d-8553209ad37f",
   "metadata": {},
   "outputs": [],
   "source": [
    "image = PIL.Image.new(\"L\", (400, 150), color=255)\n",
    "\n",
    "draw = PIL.ImageDraw.Draw(image)\n",
    "\n",
    "# use a truetype font\n",
    "font = PIL.ImageFont.truetype(\"Arial Bold.ttf\", 110)\n",
    "\n",
    "draw.text((30, 0), \"PyHEP\", font=font)"
   ]
  },
  {
   "cell_type": "code",
   "execution_count": null,
   "id": "aaa4c877-23d0-4154-8cfa-d20691889783",
   "metadata": {},
   "outputs": [],
   "source": [
    "newimage = image.filter(PIL.ImageFilter.GaussianBlur(3))\n",
    "newimage"
   ]
  },
  {
   "cell_type": "code",
   "execution_count": null,
   "id": "ce4e72a1-c5a5-4f25-a2c8-334ec8a99554",
   "metadata": {},
   "outputs": [],
   "source": [
    "arr = 255 - np.asarray(newimage)"
   ]
  },
  {
   "cell_type": "code",
   "execution_count": null,
   "id": "3edf74bb-faf9-46ce-8821-e13bb01f9039",
   "metadata": {},
   "outputs": [],
   "source": [
    "h = hist.Hist(\n",
    "    hist.axis.Regular(400, 0, 4), hist.axis.Regular(150, 0, 1.5), data=arr.T[:, ::-1]\n",
    ")"
   ]
  },
  {
   "cell_type": "code",
   "execution_count": null,
   "id": "2202d166-54f6-4e0b-a9b8-1d7e7ae7d060",
   "metadata": {},
   "outputs": [],
   "source": [
    "h.plot();"
   ]
  },
  {
   "cell_type": "code",
   "execution_count": null,
   "id": "d2ab4362-18be-4a7b-9173-9f78e35264e5",
   "metadata": {},
   "outputs": [],
   "source": [
    "h2 = h[::10j, ::10j]\n",
    "x, y = np.broadcast_arrays(*h2.axes.centers)\n",
    "fig, ax = plt.subplots(frameon=False, figsize=(7, 3.5))\n",
    "ax.axis(\"off\")\n",
    "ax.scatter(x, y, 50 * h2.values() / np.max(h2.values()), marker=\"s\", color=\"#808080\")\n",
    "plt.tight_layout()"
   ]
  }
 ],
 "metadata": {
  "kernelspec": {
   "display_name": "Python [conda env:histogram-tutorial] *",
   "language": "python",
   "name": "conda-env-histogram-tutorial-py"
  },
  "language_info": {
   "codemirror_mode": {
    "name": "ipython",
    "version": 3
   },
   "file_extension": ".py",
   "mimetype": "text/x-python",
   "name": "python",
   "nbconvert_exporter": "python",
   "pygments_lexer": "ipython3",
   "version": "3.9.6"
  },
  "toc-autonumbering": false,
  "toc-showcode": false,
  "toc-showmarkdowntxt": false,
  "toc-showtags": false
 },
 "nbformat": 4,
 "nbformat_minor": 5
}
