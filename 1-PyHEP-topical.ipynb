{
 "cells": [
  {
   "cell_type": "markdown",
   "id": "fb258061-afdc-4812-8d19-2ed766dfc987",
   "metadata": {
    "tags": []
   },
   "source": [
    "# PyHEP WG topical meeting - boost-histogram / Hist\n",
    "\n",
    "### Henry Schreiner (Princeton University) and Aman Goel (University of Delhi)\n",
    "\n",
    "**March 2nd, 2022**"
   ]
  },
  {
   "cell_type": "markdown",
   "id": "3c8559e4-e0a1-4a8e-b2e9-eb84c491330f",
   "metadata": {},
   "source": [
    "Run the code with us through Binder, altering examples and asking \"what if\" questions along the way :)\n",
    "\n",
    "[![Binder](https://mybinder.org/badge_logo.svg)](https://mybinder.org/v2/gh/henryiii/histogram-tutorial/master?filepath=)"
   ]
  },
  {
   "cell_type": "code",
   "execution_count": null,
   "id": "4240968f-43c3-4256-96df-a3992225c1e2",
   "metadata": {},
   "outputs": [],
   "source": [
    "## outline (to be removed)\n",
    "\n",
    "# defining a histogram and different ways\n",
    "# manipulation of the histogram\n",
    "# features and examples"
   ]
  },
  {
   "cell_type": "markdown",
   "id": "4453f852-c674-48df-96c4-eabde73e543b",
   "metadata": {},
   "source": [
    "## What is a Hist object made up of?"
   ]
  },
  {
   "cell_type": "markdown",
   "id": "d863d2fc-3b85-4cb6-8f6b-62c7d5d48003",
   "metadata": {},
   "source": [
    "- Axis objects\n",
    "- Storage"
   ]
  },
  {
   "cell_type": "markdown",
   "id": "7ec3d2d2-a411-4cea-bcff-763d79db4909",
   "metadata": {
    "tags": []
   },
   "source": [
    "## Defining a histogram with Hist\n",
    "Let's first import Hist and quickly define a histogram!"
   ]
  },
  {
   "cell_type": "code",
   "execution_count": null,
   "id": "d5ecf75f-b1d6-4eab-998f-e25490ec73fc",
   "metadata": {},
   "outputs": [],
   "source": [
    "import hist\n",
    "from hist import Hist"
   ]
  },
  {
   "cell_type": "code",
   "execution_count": null,
   "id": "5d12ae1e-f9f7-4152-b915-2d74d39b093b",
   "metadata": {},
   "outputs": [],
   "source": [
    "## definitions\n",
    "\n",
    "# regular and quick-construct\n",
    "# fill"
   ]
  },
  {
   "cell_type": "markdown",
   "id": "db2d25ae-433a-4e60-bea4-42fe4a94e5f9",
   "metadata": {},
   "source": [
    "## Playing with the Hist Object"
   ]
  },
  {
   "cell_type": "code",
   "execution_count": null,
   "id": "78c32bec-5c47-44f1-b71f-23073beb80be",
   "metadata": {},
   "outputs": [],
   "source": [
    "# slicing & rebinning\n",
    "# accessing various properties\n",
    "# setting content"
   ]
  },
  {
   "cell_type": "markdown",
   "id": "5b49548b-2242-4282-95e0-95cb9f532e8a",
   "metadata": {},
   "source": [
    "## Diving into the Axes"
   ]
  },
  {
   "cell_type": "code",
   "execution_count": null,
   "id": "bb3011d1-12e3-4e6d-aed3-88c440b2dab6",
   "metadata": {},
   "outputs": [],
   "source": [
    "# types and manipulation\n",
    "# include transform here"
   ]
  },
  {
   "cell_type": "markdown",
   "id": "d6c2f446-51d2-4c30-9c28-a7f59533ea1b",
   "metadata": {},
   "source": [
    "## Quick Overview of Storages"
   ]
  },
  {
   "cell_type": "code",
   "execution_count": null,
   "id": "8ea89c7e-fb5a-4149-aa14-3e2994631992",
   "metadata": {},
   "outputs": [],
   "source": [
    "# skip Accumulators?"
   ]
  },
  {
   "cell_type": "markdown",
   "id": "d5334eb0-3611-45df-8622-54c625ddf538",
   "metadata": {},
   "source": [
    "## Repr Examples"
   ]
  },
  {
   "cell_type": "code",
   "execution_count": null,
   "id": "d2c3160f-9a8f-4932-aecd-e1ed5707b065",
   "metadata": {},
   "outputs": [],
   "source": [
    "# show quick examples of previous objects as Reprs or combine this section above"
   ]
  },
  {
   "cell_type": "markdown",
   "id": "910bcdcb-01db-4eb2-994c-d24481f5b573",
   "metadata": {},
   "source": [
    "## Plots and Histoprint"
   ]
  },
  {
   "cell_type": "code",
   "execution_count": null,
   "id": "8daca9af-0901-4cc7-970d-4075c1249803",
   "metadata": {},
   "outputs": [],
   "source": [
    "# show various plots, maybe go through different levels to build one example"
   ]
  },
  {
   "cell_type": "markdown",
   "id": "f7cbffde-ee7d-4296-91eb-6e6f8b03928a",
   "metadata": {},
   "source": [
    "## Stacks"
   ]
  },
  {
   "cell_type": "code",
   "execution_count": null,
   "id": "2c0e766c-58c5-4192-b0c8-48d9e35ba1b4",
   "metadata": {},
   "outputs": [],
   "source": [
    "# look for an interesting example?"
   ]
  }
 ],
 "metadata": {
  "kernelspec": {
   "display_name": "Python 3 (ipykernel)",
   "language": "python",
   "name": "python3"
  },
  "language_info": {
   "codemirror_mode": {
    "name": "ipython",
    "version": 3
   },
   "file_extension": ".py",
   "mimetype": "text/x-python",
   "name": "python",
   "nbconvert_exporter": "python",
   "pygments_lexer": "ipython3",
   "version": "3.10.2"
  },
  "toc-autonumbering": false,
  "toc-showcode": false,
  "toc-showmarkdowntxt": false,
  "toc-showtags": false
 },
 "nbformat": 4,
 "nbformat_minor": 5
}
